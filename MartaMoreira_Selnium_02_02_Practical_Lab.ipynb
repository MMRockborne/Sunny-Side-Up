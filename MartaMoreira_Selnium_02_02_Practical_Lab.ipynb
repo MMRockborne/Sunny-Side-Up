{
 "cells": [
  {
   "cell_type": "markdown",
   "metadata": {
    "slideshow": {
     "slide_type": "slide"
    }
   },
   "source": [
    "# Selenium Lab\n",
    "\n",
    "In this lab, you will practice how to interact with websites.\n",
    "\n",
    "We will be using the https://www.typingstudy.com/ website for the data.\n",
    "\n",
    "Let's get to typing!\n",
    "\n",
    "\n",
    "## Requirements\n",
    "\n",
    "There are two main **goals** for this lab:\n",
    "\n",
    "1. **Pass The Drill**\n",
    "    - Scrape The Text to be Typed\n",
    "    - Automatically Type the Text letter by letter\n",
    "    - WPS over 150\n",
    "    - Accuracy == 100%\n",
    "    \n",
    "    \n",
    "2. **Complete The Lesson**\n",
    "    - Check for the *Complete* page\n",
    "    - Go to the next Drill\n",
    "    - Restart the previous **\"Pass The Drill\"** Code\n",
    "\n",
    "\n",
    "(Note: Separating these two tasks will help you solve this lab more efficiently.)\n",
    "\n",
    "### Part 1: Pass The Drill\n",
    "For the first goal, we want you to create a selenium script that will automatically type the prompted text into the correct text area.\n",
    "\n",
    "The text area only accepts key presses, but this should be no problem for selenium. (Hint: `.send_keys()`)\n",
    "\n",
    "Each drill contains several different prompts.\n",
    "\n",
    "\n",
    "### Part 2: Complete the Lesson\n",
    "For the second goal, we want you to automate the script to be able to move to the next drill.\n",
    "\n",
    "Each \"Lesson\" contains several \"Drills,\" which contain several \"Prompts.\"\n",
    "\n",
    "This code should be dynamic. We should be able to change the URL to lesson 2 without breaking the script.\n",
    "\n",
    "### Remember:\n",
    "- Explore the page you want to scrape before coding\n",
    "- Import the libraries\n",
    "- Create your driver (And load ad block in)\n",
    "- Locate The Necessary Elements\n",
    "- Send Them Keys!!\n",
    "\n",
    "#### Take it in small pieces. Add as many code blocks as you would like.\n",
    "\n",
    "---\n",
    "\n",
    "# Your Turn!~"
   ]
  },
  {
   "cell_type": "markdown",
   "metadata": {},
   "source": [
    "### Library Setup"
   ]
  },
  {
   "cell_type": "code",
   "execution_count": 1,
   "metadata": {
    "slideshow": {
     "slide_type": "-"
    }
   },
   "outputs": [],
   "source": [
    "from selenium import webdriver\n",
    "from bs4 import BeautifulSoup"
   ]
  },
  {
   "cell_type": "markdown",
   "metadata": {},
   "source": [
    "### Creating a Connection"
   ]
  },
  {
   "cell_type": "code",
   "execution_count": 5,
   "metadata": {},
   "outputs": [
    {
     "name": "stdout",
     "output_type": "stream",
     "text": [
      "Lesson 1 done\n",
      "Lesson 1 doneeee\n"
     ]
    },
    {
     "ename": "NoSuchElementException",
     "evalue": "Message: no such element: Unable to locate element: {\"method\":\"xpath\",\"selector\":\"//*[@id=\"dismiss-button\"]\"}\n  (Session info: chrome=125.0.6422.141); For documentation on this error, please visit: https://www.selenium.dev/documentation/webdriver/troubleshooting/errors#no-such-element-exception\nStacktrace:\n\tGetHandleVerifier [0x00007FF7A6C41F52+60322]\n\t(No symbol) [0x00007FF7A6BBCEC9]\n\t(No symbol) [0x00007FF7A6A77EBA]\n\t(No symbol) [0x00007FF7A6AC7676]\n\t(No symbol) [0x00007FF7A6AC773C]\n\t(No symbol) [0x00007FF7A6B0E967]\n\t(No symbol) [0x00007FF7A6AEC25F]\n\t(No symbol) [0x00007FF7A6B0BC80]\n\t(No symbol) [0x00007FF7A6AEBFC3]\n\t(No symbol) [0x00007FF7A6AB9617]\n\t(No symbol) [0x00007FF7A6ABA211]\n\tGetHandleVerifier [0x00007FF7A6F594AD+3301629]\n\tGetHandleVerifier [0x00007FF7A6FA36D3+3605283]\n\tGetHandleVerifier [0x00007FF7A6F99450+3563680]\n\tGetHandleVerifier [0x00007FF7A6CF4326+790390]\n\t(No symbol) [0x00007FF7A6BC750F]\n\t(No symbol) [0x00007FF7A6BC3404]\n\t(No symbol) [0x00007FF7A6BC3592]\n\t(No symbol) [0x00007FF7A6BB2F9F]\n\tBaseThreadInitThunk [0x00007FFD10FB7344+20]\n\tRtlUserThreadStart [0x00007FFD11C626B1+33]\n",
     "output_type": "error",
     "traceback": [
      "\u001b[1;31m---------------------------------------------------------------------------\u001b[0m",
      "\u001b[1;31mNoSuchElementException\u001b[0m                    Traceback (most recent call last)",
      "Cell \u001b[1;32mIn[5], line 53\u001b[0m\n\u001b[0;32m     51\u001b[0m next_lesson \u001b[38;5;241m=\u001b[39m driver\u001b[38;5;241m.\u001b[39mfind_element(\u001b[38;5;124m'\u001b[39m\u001b[38;5;124mxpath\u001b[39m\u001b[38;5;124m'\u001b[39m, \u001b[38;5;124m'\u001b[39m\u001b[38;5;124m//*[@id=\u001b[39m\u001b[38;5;124m\"\u001b[39m\u001b[38;5;124mcomplete\u001b[39m\u001b[38;5;124m\"\u001b[39m\u001b[38;5;124m]/div[1]/a\u001b[39m\u001b[38;5;124m'\u001b[39m)\n\u001b[0;32m     52\u001b[0m next_lesson\u001b[38;5;241m.\u001b[39mclick()\n\u001b[1;32m---> 53\u001b[0m close_ad \u001b[38;5;241m=\u001b[39m  driver\u001b[38;5;241m.\u001b[39mfind_element(\u001b[38;5;124m'\u001b[39m\u001b[38;5;124mxpath\u001b[39m\u001b[38;5;124m'\u001b[39m, \u001b[38;5;124m'\u001b[39m\u001b[38;5;124m//*[@id=\u001b[39m\u001b[38;5;124m\"\u001b[39m\u001b[38;5;124mdismiss-button\u001b[39m\u001b[38;5;124m\"\u001b[39m\u001b[38;5;124m]\u001b[39m\u001b[38;5;124m'\u001b[39m)\n\u001b[0;32m     54\u001b[0m close_ad\u001b[38;5;241m.\u001b[39mclick()\n",
      "File \u001b[1;32m~\\AppData\\Roaming\\Python\\Python311\\site-packages\\selenium\\webdriver\\remote\\webdriver.py:741\u001b[0m, in \u001b[0;36mWebDriver.find_element\u001b[1;34m(self, by, value)\u001b[0m\n\u001b[0;32m    738\u001b[0m     by \u001b[38;5;241m=\u001b[39m By\u001b[38;5;241m.\u001b[39mCSS_SELECTOR\n\u001b[0;32m    739\u001b[0m     value \u001b[38;5;241m=\u001b[39m \u001b[38;5;124mf\u001b[39m\u001b[38;5;124m'\u001b[39m\u001b[38;5;124m[name=\u001b[39m\u001b[38;5;124m\"\u001b[39m\u001b[38;5;132;01m{\u001b[39;00mvalue\u001b[38;5;132;01m}\u001b[39;00m\u001b[38;5;124m\"\u001b[39m\u001b[38;5;124m]\u001b[39m\u001b[38;5;124m'\u001b[39m\n\u001b[1;32m--> 741\u001b[0m \u001b[38;5;28;01mreturn\u001b[39;00m \u001b[38;5;28mself\u001b[39m\u001b[38;5;241m.\u001b[39mexecute(Command\u001b[38;5;241m.\u001b[39mFIND_ELEMENT, {\u001b[38;5;124m\"\u001b[39m\u001b[38;5;124musing\u001b[39m\u001b[38;5;124m\"\u001b[39m: by, \u001b[38;5;124m\"\u001b[39m\u001b[38;5;124mvalue\u001b[39m\u001b[38;5;124m\"\u001b[39m: value})[\u001b[38;5;124m\"\u001b[39m\u001b[38;5;124mvalue\u001b[39m\u001b[38;5;124m\"\u001b[39m]\n",
      "File \u001b[1;32m~\\AppData\\Roaming\\Python\\Python311\\site-packages\\selenium\\webdriver\\remote\\webdriver.py:347\u001b[0m, in \u001b[0;36mWebDriver.execute\u001b[1;34m(self, driver_command, params)\u001b[0m\n\u001b[0;32m    345\u001b[0m response \u001b[38;5;241m=\u001b[39m \u001b[38;5;28mself\u001b[39m\u001b[38;5;241m.\u001b[39mcommand_executor\u001b[38;5;241m.\u001b[39mexecute(driver_command, params)\n\u001b[0;32m    346\u001b[0m \u001b[38;5;28;01mif\u001b[39;00m response:\n\u001b[1;32m--> 347\u001b[0m     \u001b[38;5;28mself\u001b[39m\u001b[38;5;241m.\u001b[39merror_handler\u001b[38;5;241m.\u001b[39mcheck_response(response)\n\u001b[0;32m    348\u001b[0m     response[\u001b[38;5;124m\"\u001b[39m\u001b[38;5;124mvalue\u001b[39m\u001b[38;5;124m\"\u001b[39m] \u001b[38;5;241m=\u001b[39m \u001b[38;5;28mself\u001b[39m\u001b[38;5;241m.\u001b[39m_unwrap_value(response\u001b[38;5;241m.\u001b[39mget(\u001b[38;5;124m\"\u001b[39m\u001b[38;5;124mvalue\u001b[39m\u001b[38;5;124m\"\u001b[39m, \u001b[38;5;28;01mNone\u001b[39;00m))\n\u001b[0;32m    349\u001b[0m     \u001b[38;5;28;01mreturn\u001b[39;00m response\n",
      "File \u001b[1;32m~\\AppData\\Roaming\\Python\\Python311\\site-packages\\selenium\\webdriver\\remote\\errorhandler.py:229\u001b[0m, in \u001b[0;36mErrorHandler.check_response\u001b[1;34m(self, response)\u001b[0m\n\u001b[0;32m    227\u001b[0m         alert_text \u001b[38;5;241m=\u001b[39m value[\u001b[38;5;124m\"\u001b[39m\u001b[38;5;124malert\u001b[39m\u001b[38;5;124m\"\u001b[39m]\u001b[38;5;241m.\u001b[39mget(\u001b[38;5;124m\"\u001b[39m\u001b[38;5;124mtext\u001b[39m\u001b[38;5;124m\"\u001b[39m)\n\u001b[0;32m    228\u001b[0m     \u001b[38;5;28;01mraise\u001b[39;00m exception_class(message, screen, stacktrace, alert_text)  \u001b[38;5;66;03m# type: ignore[call-arg]  # mypy is not smart enough here\u001b[39;00m\n\u001b[1;32m--> 229\u001b[0m \u001b[38;5;28;01mraise\u001b[39;00m exception_class(message, screen, stacktrace)\n",
      "\u001b[1;31mNoSuchElementException\u001b[0m: Message: no such element: Unable to locate element: {\"method\":\"xpath\",\"selector\":\"//*[@id=\"dismiss-button\"]\"}\n  (Session info: chrome=125.0.6422.141); For documentation on this error, please visit: https://www.selenium.dev/documentation/webdriver/troubleshooting/errors#no-such-element-exception\nStacktrace:\n\tGetHandleVerifier [0x00007FF7A6C41F52+60322]\n\t(No symbol) [0x00007FF7A6BBCEC9]\n\t(No symbol) [0x00007FF7A6A77EBA]\n\t(No symbol) [0x00007FF7A6AC7676]\n\t(No symbol) [0x00007FF7A6AC773C]\n\t(No symbol) [0x00007FF7A6B0E967]\n\t(No symbol) [0x00007FF7A6AEC25F]\n\t(No symbol) [0x00007FF7A6B0BC80]\n\t(No symbol) [0x00007FF7A6AEBFC3]\n\t(No symbol) [0x00007FF7A6AB9617]\n\t(No symbol) [0x00007FF7A6ABA211]\n\tGetHandleVerifier [0x00007FF7A6F594AD+3301629]\n\tGetHandleVerifier [0x00007FF7A6FA36D3+3605283]\n\tGetHandleVerifier [0x00007FF7A6F99450+3563680]\n\tGetHandleVerifier [0x00007FF7A6CF4326+790390]\n\t(No symbol) [0x00007FF7A6BC750F]\n\t(No symbol) [0x00007FF7A6BC3404]\n\t(No symbol) [0x00007FF7A6BC3592]\n\t(No symbol) [0x00007FF7A6BB2F9F]\n\tBaseThreadInitThunk [0x00007FFD10FB7344+20]\n\tRtlUserThreadStart [0x00007FFD11C626B1+33]\n"
     ]
    }
   ],
   "source": [
    "driver_path = \"\"#\"C:\\Program Files\\Google\\Chrome\\Application\\chrome.exe\" # TO FILL\n",
    "driver = webdriver.Chrome(driver_path)\n",
    "from selenium import webdriver\n",
    "from selenium.webdriver.chrome.options import Options\n",
    "from selenium.webdriver.common.keys import Keys\n",
    "from selenium.webdriver.common.by import By\n",
    "import time\n",
    "from selenium.webdriver.common.action_chains import ActionChains\n",
    "\n",
    "def run_query():\n",
    "    count = 0\n",
    "    while count<7:\n",
    "        count += 1\n",
    "        text1 = driver.find_element(By.XPATH, '//*[@id=\"text\"]/span[1]').text\n",
    "        text2 = driver.find_element(By.XPATH, '//*[@id=\"text\"]/span[2]').text\n",
    "        \n",
    "        full_text = text1 + Keys.SPACE + text2\n",
    "        \n",
    "        elem = driver.find_element(By.XPATH, \"//*[@id='type']\")\n",
    "\n",
    "        for character in full_text:\n",
    "                actions = ActionChains(driver)\n",
    "                actions.send_keys(character)\n",
    "                actions.perform()\n",
    "                time.sleep(0.01)\n",
    "                \n",
    "                # Send a space key directly to the input element\n",
    "        elem.send_keys(Keys.SPACE)\n",
    "        time.sleep(1)\n",
    "\n",
    "    print('Lesson 1 done')\n",
    "    #time.sleep(3)\n",
    "#install adblock\n",
    "#chop = webdriver.ChromeOptions()\n",
    "#chop.add_extension('Adblock-Plus---free-ad-blocker.crx')\n",
    "#driver = webdriver.Chrome(driver_path, chrome_options = chop)\n",
    "driver.get('https://www.typingstudy.com/en-uk_english-3/')\n",
    "\n",
    "consent_button = driver.find_element('xpath', '/html/body/div[2]/div[2]/div[1]/div[2]/div[2]/button[1]/p')\n",
    "consent_button.click()\n",
    "\n",
    "start_button = driver.find_element('xpath', '//*[@id=\"start\"]/a')\n",
    "start_button.click()\n",
    "\n",
    "numLesson =0\n",
    "while numLesson < 15:\n",
    "    numLesson +=1\n",
    "    run_query()\n",
    "    print('Lesson 1 doneeee')\n",
    "    time.sleep(5)\n",
    "    next_lesson = driver.find_element('xpath', '//*[@id=\"complete\"]/div[1]/a')\n",
    "    next_lesson.click()\n",
    "    close_ad =  driver.find_element('xpath', '//*[@id=\"dismiss-button\"]')\n",
    "    close_ad.click()\n",
    "   \n",
    "\n"
   ]
  },
  {
   "cell_type": "code",
   "execution_count": null,
   "metadata": {},
   "outputs": [],
   "source": []
  },
  {
   "cell_type": "code",
   "execution_count": null,
   "metadata": {},
   "outputs": [],
   "source": []
  },
  {
   "cell_type": "markdown",
   "metadata": {},
   "source": [
    "### Passing The Drill"
   ]
  },
  {
   "cell_type": "code",
   "execution_count": 6,
   "metadata": {},
   "outputs": [],
   "source": []
  },
  {
   "cell_type": "markdown",
   "metadata": {},
   "source": [
    "### Completing The Lesson"
   ]
  },
  {
   "cell_type": "code",
   "execution_count": 4,
   "metadata": {},
   "outputs": [],
   "source": []
  },
  {
   "cell_type": "markdown",
   "metadata": {},
   "source": [
    "---"
   ]
  },
  {
   "cell_type": "code",
   "execution_count": 7,
   "metadata": {},
   "outputs": [],
   "source": []
  },
  {
   "cell_type": "code",
   "execution_count": 4,
   "metadata": {},
   "outputs": [
    {
     "data": {
      "text/plain": [
       "'aa ss dd ff jj kk ll ;;'"
      ]
     },
     "execution_count": 4,
     "metadata": {},
     "output_type": "execute_result"
    }
   ],
   "source": []
  }
 ],
 "metadata": {
  "kernelspec": {
   "display_name": "Python 3 (ipykernel)",
   "language": "python",
   "name": "python3"
  },
  "language_info": {
   "codemirror_mode": {
    "name": "ipython",
    "version": 3
   },
   "file_extension": ".py",
   "mimetype": "text/x-python",
   "name": "python",
   "nbconvert_exporter": "python",
   "pygments_lexer": "ipython3",
   "version": "3.11.7"
  }
 },
 "nbformat": 4,
 "nbformat_minor": 4
}
