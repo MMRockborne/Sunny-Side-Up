{
 "cells": [
  {
   "cell_type": "markdown",
   "id": "465a5a71-bade-41a0-aa7c-805d2c59248d",
   "metadata": {},
   "source": []
  },
  {
   "cell_type": "code",
   "execution_count": 1,
   "id": "e692df2a-db01-4429-93ce-c96c90a5e66f",
   "metadata": {},
   "outputs": [],
   "source": [
    "# Import libraries\n",
    "import requests\n",
    "import pandas as pd\n",
    "from bokeh.plotting import output_file, show\n",
    "from bokeh.models import Select, Div, Button, ColumnDataSource, HTMLTemplateFormatter,TableColumn, DataTable\n",
    "from bokeh.models.widgets import DateRangePicker, DataTable, TableColumn\n",
    "from bokeh.layouts import column\n",
    "# Import necessary modules\n",
    "from ipywidgets import interact, widgets, VBox, HBox\n",
    "from IPython.display import display, HTML\n",
    "from bokeh.io import push_notebook, show, output_notebook\n",
    "import pandas as pd\n",
    "# Import the necessary modules\n",
    "from ipywidgets import HTML\n",
    "from IPython.display import display, HTML as IPHTML"
   ]
  },
  {
   "cell_type": "code",
   "execution_count": 2,
   "id": "60aa06fb-2795-4b85-8ec8-fd6a66d49c42",
   "metadata": {},
   "outputs": [],
   "source": [
    "# Import all APIs form config.py\n",
    "# WeatherAPI key\n",
    "weather_key = \"11da115d9a8d4556bd993522240506\""
   ]
  },
  {
   "cell_type": "code",
   "execution_count": null,
   "id": "3a3119ff-5bfd-40ec-a3c5-9d79b277cef7",
   "metadata": {},
   "outputs": [],
   "source": []
  },
  {
   "cell_type": "code",
   "execution_count": 3,
   "id": "44e7cb96-0931-408a-b059-9d6831cc39df",
   "metadata": {},
   "outputs": [
    {
     "name": "stdout",
     "output_type": "stream",
     "text": [
      "Access Token: k1FXEI4d0bSZUo9dseFlEfKrYBp3\n"
     ]
    }
   ],
   "source": [
    "def get_access_token():\n",
    "    url = \"https://test.api.amadeus.com/v1/security/oauth2/token\"\n",
    "    headers = {\n",
    "        \"Content-Type\": \"application/x-www-form-urlencoded\"\n",
    "    }\n",
    "    data = {\n",
    "        \"grant_type\": \"client_credentials\",\n",
    "        \"client_id\": 'gAJOLRiyFCjYVuCEIspShbBroNVLSgpw',\n",
    "        \"client_secret\": 'ZDHiCX0h0NYIBm0B'\n",
    "    }\n",
    " \n",
    "    response = requests.post(url, headers=headers, data=data)\n",
    "    if response.status_code == 200:\n",
    "        # Extract the access token from the response JSON\n",
    "        access_token = response.json()['access_token']\n",
    "        print(\"Access Token:\", access_token)\n",
    "    else:\n",
    "        # Print error message if the request was not successful\n",
    "        print(\"Failed to obtain access token:\", response.status_code, response.text)\n",
    "    return access_token\n",
    "\n",
    "# Get access token\n",
    "access_token = get_access_token()"
   ]
  },
  {
   "cell_type": "code",
   "execution_count": null,
   "id": "7dca3ba1-c3a8-4c72-b0b5-9eb90d6badf3",
   "metadata": {},
   "outputs": [],
   "source": []
  },
  {
   "cell_type": "code",
   "execution_count": null,
   "id": "4646063f-7cc7-4820-8dff-bbc6a041d4d6",
   "metadata": {},
   "outputs": [],
   "source": []
  },
  {
   "cell_type": "code",
   "execution_count": null,
   "id": "cb5d4472-1eed-4897-bded-fd1698a92d62",
   "metadata": {},
   "outputs": [],
   "source": []
  },
  {
   "cell_type": "code",
   "execution_count": null,
   "id": "cd32a2af-4b06-4f62-a0c7-b007265f3dcb",
   "metadata": {},
   "outputs": [],
   "source": []
  },
  {
   "cell_type": "code",
   "execution_count": null,
   "id": "575ac9ec-91fe-4ca2-8279-fe2e44f9d122",
   "metadata": {},
   "outputs": [],
   "source": []
  },
  {
   "cell_type": "code",
   "execution_count": null,
   "id": "c09042a0-c685-4536-a31c-1f1c0f129294",
   "metadata": {},
   "outputs": [],
   "source": []
  },
  {
   "cell_type": "code",
   "execution_count": null,
   "id": "56622570-0d84-4653-b44a-8fbaa8110fd1",
   "metadata": {},
   "outputs": [],
   "source": []
  },
  {
   "cell_type": "code",
   "execution_count": null,
   "id": "8b536320-91b3-43d6-8bd5-04c3c6a521da",
   "metadata": {},
   "outputs": [],
   "source": []
  },
  {
   "cell_type": "code",
   "execution_count": null,
   "id": "84d7110a-3c47-4ba5-a5a1-ad6eb5f93585",
   "metadata": {},
   "outputs": [],
   "source": []
  },
  {
   "cell_type": "code",
   "execution_count": null,
   "id": "718c0f2c-aa77-4ece-97dc-92b77a111426",
   "metadata": {},
   "outputs": [],
   "source": []
  },
  {
   "cell_type": "code",
   "execution_count": null,
   "id": "78186b86-4197-4c68-9af7-7e2b90b6dd0d",
   "metadata": {},
   "outputs": [],
   "source": []
  },
  {
   "cell_type": "code",
   "execution_count": null,
   "id": "2f44021a-a484-4f0f-bdc9-717f8704c55e",
   "metadata": {},
   "outputs": [],
   "source": []
  },
  {
   "cell_type": "markdown",
   "id": "e9fbcd8a-0688-4c7b-953e-e696d815ef9f",
   "metadata": {},
   "source": [
    "## Get flights according to city, airport and departure date"
   ]
  },
  {
   "cell_type": "code",
   "execution_count": 4,
   "id": "1561d0ea-fa25-46fc-8cbd-1778ed96bf6c",
   "metadata": {},
   "outputs": [],
   "source": [
    "# List of cities\n",
    "cities = ['Madrid', 'London', 'Paris', 'Barcelona', 'Athens']\n",
    "# Function to get flight details\n",
    "def get_flight_details(access_token, originLocationCode, destinationLocationCode, departureDate):\n",
    "    url = \"https://test.api.amadeus.com/v2/shopping/flight-offers\"\n",
    "    headers = {\n",
    "        \"Authorization\": f'Bearer {access_token}',\n",
    "        \"Content-Type\": \"application/json\"\n",
    "    }\n",
    "    params = {\n",
    "        \"originLocationCode\": originLocationCode,\n",
    "        \"destinationLocationCode\": destinationLocationCode,\n",
    "        \"departureDate\": departureDate,\n",
    "        \"adults\": 1,\n",
    "        \"max\": 3\n",
    "    }\n",
    "    response = requests.get(url, headers=headers, params=params)\n",
    "    if response.status_code == 200:\n",
    "        return response.json()\n",
    "    else:\n",
    "        print(\"Failed to get flight details:\", response.status_code, response.text)\n",
    "        return None"
   ]
  },
  {
   "cell_type": "code",
   "execution_count": null,
   "id": "5af34977-13f4-42fb-bd80-eccadcdb40dd",
   "metadata": {},
   "outputs": [],
   "source": []
  },
  {
   "cell_type": "code",
   "execution_count": 5,
   "id": "d3b8611a-260b-4198-bdf0-7f545dfb775b",
   "metadata": {},
   "outputs": [],
   "source": [
    "\n",
    "# Function to process flight data\n",
    "def process_flight_data(flight_offers_response):\n",
    "    if flight_offers_response:\n",
    "        # Extract flight details and create DataFrame\n",
    "        flight_data = []\n",
    "        for flight in flight_offers_response['data']:\n",
    "            itinerary = flight['itineraries'][0]\n",
    "            segment = itinerary['segments'][0]\n",
    "            departure_airport = segment['departure']['iataCode']\n",
    "            arrival_airport = segment['arrival']['iataCode']\n",
    "            departure_time = segment['departure']['at'][-8:-3]\n",
    "            arrival_time = segment['arrival']['at'][-8:-3]\n",
    "\n",
    "            # Convert string time to hours and minutes\n",
    "            departure_hour, departure_minute = map(int, departure_time.split(':'))\n",
    "            arrival_hour, arrival_minute = map(int, arrival_time.split(':'))\n",
    "\n",
    "            # Calculate duration in minutes\n",
    "            duration_minutes = (arrival_hour * 60 + arrival_minute) - (departure_hour * 60 + departure_minute)\n",
    "\n",
    "            # Convert duration to hours and minutes\n",
    "            duration_hours = duration_minutes // 60\n",
    "            duration_minutes = duration_minutes % 60\n",
    "\n",
    "            duration_str = f\"{duration_hours:02d}:{duration_minutes:02d}\"\n",
    "\n",
    "            price = float(flight['price']['total'])\n",
    "            currency = flight['price']['currency']\n",
    "            price_with_currency = f\"{price} {currency}\"\n",
    "\n",
    "            # Combine price with currency\n",
    "            flight_data.append([departure_airport, arrival_airport, departure_time, arrival_time, duration_str, price_with_currency])\n",
    "\n",
    "        # Creating DataFrame\n",
    "        df = pd.DataFrame(flight_data, columns=['DepartureAirport', 'ArrivalAirport', 'DepartureTime', 'ArrivalTime', 'Duration(hours)', 'PriceWithCurrency'])\n",
    "        return df\n",
    "    else:\n",
    "        print(\"No flight offers data available.\")\n",
    "        return None"
   ]
  },
  {
   "cell_type": "code",
   "execution_count": null,
   "id": "11609365-a514-47e6-ba91-2d9dd0c80223",
   "metadata": {},
   "outputs": [],
   "source": []
  },
  {
   "cell_type": "code",
   "execution_count": 6,
   "id": "6d998858-ca7c-4ef9-b6c8-27af116eaf46",
   "metadata": {},
   "outputs": [],
   "source": [
    "# Function to get airport codes based on city\n",
    "def get_airport_codes(city):\n",
    "    api_url = f'https://api.api-ninjas.com/v1/airports?city={city}'\n",
    "    headers = {'X-Api-Key': 'nrc3S/XZWbfao3LeySY9hg==I1u1i9JSOP6NSPFw'}\n",
    "    response = requests.get(api_url, headers=headers)\n",
    "    if response.status_code == requests.codes.ok:\n",
    "        airport_data = response.json()\n",
    "        airport_dict = {}\n",
    "        for airport in airport_data:\n",
    "            airport_code = airport.get('iata')\n",
    "            if airport_code:\n",
    "                airport_name = airport.get('name')\n",
    "                airport_dict[airport_name] = airport_code\n",
    "        return airport_dict\n",
    "    else:\n",
    "        print(\"Error:\", response.status_code, response.text)\n",
    "        return {}"
   ]
  },
  {
   "cell_type": "code",
   "execution_count": null,
   "id": "02506c8f-3194-43b3-a39a-8996ecbf9df6",
   "metadata": {},
   "outputs": [],
   "source": []
  },
  {
   "cell_type": "code",
   "execution_count": 7,
   "id": "76f00617-af41-4c46-9d35-1c534677f642",
   "metadata": {},
   "outputs": [],
   "source": [
    "# Function to update airport options based on city selection\n",
    "def update_airport_options(change):\n",
    "    city = change['new']\n",
    "    airports = get_airport_codes(city)\n",
    "    if airports:\n",
    "        airport_select.options = airports\n",
    "        airport_select.value = list(airports.values())[0]"
   ]
  },
  {
   "cell_type": "code",
   "execution_count": null,
   "id": "993cea92-bc62-480e-92e6-dfe4d4bf3f58",
   "metadata": {},
   "outputs": [],
   "source": []
  },
  {
   "cell_type": "code",
   "execution_count": 8,
   "id": "22945fd9-371b-4538-b18b-d34210e9e065",
   "metadata": {},
   "outputs": [],
   "source": [
    "\n",
    "\n",
    "# Function to update flight offers\n",
    "def update_flight_offers(city, access_token, originLocationCode, destinationLocationCode, departure_date):\n",
    "    print(\"City:\", city)\n",
    "    print(\"Departure Date:\", departure_date)\n",
    "    print(\"Origin Location Code:\", originLocationCode)\n",
    "    print(\"Destination Location Code:\", destinationLocationCode)\n",
    "    \n",
    "    flight_offers_response = get_flight_details(access_token, originLocationCode, destinationLocationCode, departure_date)\n",
    "    print(flight_offers_response)\n",
    "    \n",
    "    if flight_offers_response:\n",
    "        flight_data_table = process_flight_data(flight_offers_response)\n",
    "        if flight_data_table is not None:\n",
    "            return flight_data_table\n",
    "    else:\n",
    "        print(\"No flight offers found.\")\n",
    "        return None"
   ]
  },
  {
   "cell_type": "code",
   "execution_count": null,
   "id": "e74d255a-e5cc-4eb7-ae09-b57ed1b77b27",
   "metadata": {},
   "outputs": [],
   "source": []
  },
  {
   "cell_type": "code",
   "execution_count": null,
   "id": "0848e3e1-ad24-4e6a-8e6f-c825dbdcee81",
   "metadata": {},
   "outputs": [],
   "source": []
  },
  {
   "cell_type": "markdown",
   "id": "6a4b35e0-7e73-4e26-a4c7-85d389c5f261",
   "metadata": {},
   "source": [
    "# STOP RUNNING THE CODE "
   ]
  },
  {
   "cell_type": "code",
   "execution_count": 9,
   "id": "8d5342c2-d797-409f-b707-c3d823065148",
   "metadata": {},
   "outputs": [],
   "source": [
    "from datetime import datetime, timedelta\n",
    "\n",
    "def fetch_10_day_forecast(city, api_key):\n",
    "    base_url = 'http://api.weatherapi.com/v1'\n",
    "    url = f\"{base_url}/forecast.json?key={api_key}&q={city}&days=10\"\n",
    "    response = requests.get(url)\n",
    "    data = response.json()\n",
    "    \n",
    "    # Check if the response contains the necessary forecast data\n",
    "    if 'forecast' in data and 'forecastday' in data['forecast']:\n",
    "        forecast_data = data['forecast']['forecastday']\n",
    "        extracted_data = []\n",
    "        \n",
    "        for day in forecast_data:\n",
    "            date = day['date']\n",
    "            temp = day['day']['avgtemp_c']\n",
    "            humidity = day['day']['avghumidity']\n",
    "            cloudiness = day['day']['condition']['text']\n",
    "            wind_speed = day['day']['maxwind_kph']\n",
    "            \n",
    "            extracted_data.append({\n",
    "                'city': city,\n",
    "                'date': date,\n",
    "                'temp': temp,\n",
    "                'humidity': humidity,\n",
    "                'condition': cloudiness,\n",
    "                'wind_speed': wind_speed\n",
    "            })\n",
    "        \n",
    "        return pd.DataFrame(extracted_data)\n",
    "    else:\n",
    "        print(f\"No forecast data available for {city}\")\n",
    "        return pd.DataFrame()\n",
    "\n"
   ]
  },
  {
   "cell_type": "code",
   "execution_count": null,
   "id": "4952f8cc-26a6-4165-b84f-79506e923bb9",
   "metadata": {},
   "outputs": [],
   "source": []
  },
  {
   "cell_type": "code",
   "execution_count": null,
   "id": "54cf7548-25e3-4052-8d0a-19f15d648c18",
   "metadata": {},
   "outputs": [],
   "source": []
  },
  {
   "cell_type": "code",
   "execution_count": 10,
   "id": "78c15f4c-ec94-4e80-8654-e97a93ceb3d7",
   "metadata": {},
   "outputs": [
    {
     "data": {
      "text/html": [
       "    <style>\n",
       "        .bk-notebook-logo {\n",
       "            display: block;\n",
       "            width: 20px;\n",
       "            height: 20px;\n",
       "            background-image: url(data:image/png;base64,iVBORw0KGgoAAAANSUhEUgAAABQAAAAUCAYAAACNiR0NAAAABHNCSVQICAgIfAhkiAAAAAlwSFlzAAALEgAACxIB0t1+/AAAABx0RVh0U29mdHdhcmUAQWRvYmUgRmlyZXdvcmtzIENTNui8sowAAAOkSURBVDiNjZRtaJVlGMd/1/08zzln5zjP1LWcU9N0NkN8m2CYjpgQYQXqSs0I84OLIC0hkEKoPtiH3gmKoiJDU7QpLgoLjLIQCpEsNJ1vqUOdO7ppbuec5+V+rj4ctwzd8IIbbi6u+8f1539dt3A78eXC7QizUF7gyV1fD1Yqg4JWz84yffhm0qkFqBogB9rM8tZdtwVsPUhWhGcFJngGeWrPzHm5oaMmkfEg1usvLFyc8jLRqDOMru7AyC8saQr7GG7f5fvDeH7Ej8CM66nIF+8yngt6HWaKh7k49Soy9nXurCi1o3qUbS3zWfrYeQDTB/Qj6kX6Ybhw4B+bOYoLKCC9H3Nu/leUTZ1JdRWkkn2ldcCamzrcf47KKXdAJllSlxAOkRgyHsGC/zRday5Qld9DyoM4/q/rUoy/CXh3jzOu3bHUVZeU+DEn8FInkPBFlu3+nW3Nw0mk6vCDiWg8CeJaxEwuHS3+z5RgY+YBR6V1Z1nxSOfoaPa4LASWxxdNp+VWTk7+4vzaou8v8PN+xo+KY2xsw6une2frhw05CTYOmQvsEhjhWjn0bmXPjpE1+kplmmkP3suftwTubK9Vq22qKmrBhpY4jvd5afdRA3wGjFAgcnTK2s4hY0/GPNIb0nErGMCRxWOOX64Z8RAC4oCXdklmEvcL8o0BfkNK4lUg9HTl+oPlQxdNo3Mg4Nv175e/1LDGzZen30MEjRUtmXSfiTVu1kK8W4txyV6BMKlbgk3lMwYCiusNy9fVfvvwMxv8Ynl6vxoByANLTWplvuj/nF9m2+PDtt1eiHPBr1oIfhCChQMBw6Aw0UulqTKZdfVvfG7VcfIqLG9bcldL/+pdWTLxLUy8Qq38heUIjh4XlzZxzQm19lLFlr8vdQ97rjZVOLf8nclzckbcD4wxXMidpX30sFd37Fv/GtwwhzhxGVAprjbg0gCAEeIgwCZyTV2Z1REEW8O4py0wsjeloKoMr6iCY6dP92H6Vw/oTyICIthibxjm/DfN9lVz8IqtqKYLUXfoKVMVQVVJOElGjrnnUt9T9wbgp8AyYKaGlqingHZU/uG2NTZSVqwHQTWkx9hxjkpWDaCg6Ckj5qebgBVbT3V3NNXMSiWSDdGV3hrtzla7J+duwPOToIg42ChPQOQjspnSlp1V+Gjdged7+8UN5CRAV7a5EdFNwCjEaBR27b3W890TE7g24NAP/mMDXRWrGoFPQI9ls/MWO2dWFAar/xcOIImbbpA3zgAAAABJRU5ErkJggg==);\n",
       "        }\n",
       "    </style>\n",
       "    <div>\n",
       "        <a href=\"https://bokeh.org\" target=\"_blank\" class=\"bk-notebook-logo\"></a>\n",
       "        <span id=\"a9df2e32-1fe7-4302-95dc-391c53892411\">Loading BokehJS ...</span>\n",
       "    </div>\n"
      ]
     },
     "metadata": {},
     "output_type": "display_data"
    },
    {
     "data": {
      "application/javascript": [
       "(function(root) {\n",
       "  function now() {\n",
       "    return new Date();\n",
       "  }\n",
       "\n",
       "  const force = true;\n",
       "\n",
       "  if (typeof root._bokeh_onload_callbacks === \"undefined\" || force === true) {\n",
       "    root._bokeh_onload_callbacks = [];\n",
       "    root._bokeh_is_loading = undefined;\n",
       "  }\n",
       "\n",
       "const JS_MIME_TYPE = 'application/javascript';\n",
       "  const HTML_MIME_TYPE = 'text/html';\n",
       "  const EXEC_MIME_TYPE = 'application/vnd.bokehjs_exec.v0+json';\n",
       "  const CLASS_NAME = 'output_bokeh rendered_html';\n",
       "\n",
       "  /**\n",
       "   * Render data to the DOM node\n",
       "   */\n",
       "  function render(props, node) {\n",
       "    const script = document.createElement(\"script\");\n",
       "    node.appendChild(script);\n",
       "  }\n",
       "\n",
       "  /**\n",
       "   * Handle when an output is cleared or removed\n",
       "   */\n",
       "  function handleClearOutput(event, handle) {\n",
       "    function drop(id) {\n",
       "      const view = Bokeh.index.get_by_id(id)\n",
       "      if (view != null) {\n",
       "        view.model.document.clear()\n",
       "        Bokeh.index.delete(view)\n",
       "      }\n",
       "    }\n",
       "\n",
       "    const cell = handle.cell;\n",
       "\n",
       "    const id = cell.output_area._bokeh_element_id;\n",
       "    const server_id = cell.output_area._bokeh_server_id;\n",
       "\n",
       "    // Clean up Bokeh references\n",
       "    if (id != null) {\n",
       "      drop(id)\n",
       "    }\n",
       "\n",
       "    if (server_id !== undefined) {\n",
       "      // Clean up Bokeh references\n",
       "      const cmd_clean = \"from bokeh.io.state import curstate; print(curstate().uuid_to_server['\" + server_id + \"'].get_sessions()[0].document.roots[0]._id)\";\n",
       "      cell.notebook.kernel.execute(cmd_clean, {\n",
       "        iopub: {\n",
       "          output: function(msg) {\n",
       "            const id = msg.content.text.trim()\n",
       "            drop(id)\n",
       "          }\n",
       "        }\n",
       "      });\n",
       "      // Destroy server and session\n",
       "      const cmd_destroy = \"import bokeh.io.notebook as ion; ion.destroy_server('\" + server_id + \"')\";\n",
       "      cell.notebook.kernel.execute(cmd_destroy);\n",
       "    }\n",
       "  }\n",
       "\n",
       "  /**\n",
       "   * Handle when a new output is added\n",
       "   */\n",
       "  function handleAddOutput(event, handle) {\n",
       "    const output_area = handle.output_area;\n",
       "    const output = handle.output;\n",
       "\n",
       "    // limit handleAddOutput to display_data with EXEC_MIME_TYPE content only\n",
       "    if ((output.output_type != \"display_data\") || (!Object.prototype.hasOwnProperty.call(output.data, EXEC_MIME_TYPE))) {\n",
       "      return\n",
       "    }\n",
       "\n",
       "    const toinsert = output_area.element.find(\".\" + CLASS_NAME.split(' ')[0]);\n",
       "\n",
       "    if (output.metadata[EXEC_MIME_TYPE][\"id\"] !== undefined) {\n",
       "      toinsert[toinsert.length - 1].firstChild.textContent = output.data[JS_MIME_TYPE];\n",
       "      // store reference to embed id on output_area\n",
       "      output_area._bokeh_element_id = output.metadata[EXEC_MIME_TYPE][\"id\"];\n",
       "    }\n",
       "    if (output.metadata[EXEC_MIME_TYPE][\"server_id\"] !== undefined) {\n",
       "      const bk_div = document.createElement(\"div\");\n",
       "      bk_div.innerHTML = output.data[HTML_MIME_TYPE];\n",
       "      const script_attrs = bk_div.children[0].attributes;\n",
       "      for (let i = 0; i < script_attrs.length; i++) {\n",
       "        toinsert[toinsert.length - 1].firstChild.setAttribute(script_attrs[i].name, script_attrs[i].value);\n",
       "        toinsert[toinsert.length - 1].firstChild.textContent = bk_div.children[0].textContent\n",
       "      }\n",
       "      // store reference to server id on output_area\n",
       "      output_area._bokeh_server_id = output.metadata[EXEC_MIME_TYPE][\"server_id\"];\n",
       "    }\n",
       "  }\n",
       "\n",
       "  function register_renderer(events, OutputArea) {\n",
       "\n",
       "    function append_mime(data, metadata, element) {\n",
       "      // create a DOM node to render to\n",
       "      const toinsert = this.create_output_subarea(\n",
       "        metadata,\n",
       "        CLASS_NAME,\n",
       "        EXEC_MIME_TYPE\n",
       "      );\n",
       "      this.keyboard_manager.register_events(toinsert);\n",
       "      // Render to node\n",
       "      const props = {data: data, metadata: metadata[EXEC_MIME_TYPE]};\n",
       "      render(props, toinsert[toinsert.length - 1]);\n",
       "      element.append(toinsert);\n",
       "      return toinsert\n",
       "    }\n",
       "\n",
       "    /* Handle when an output is cleared or removed */\n",
       "    events.on('clear_output.CodeCell', handleClearOutput);\n",
       "    events.on('delete.Cell', handleClearOutput);\n",
       "\n",
       "    /* Handle when a new output is added */\n",
       "    events.on('output_added.OutputArea', handleAddOutput);\n",
       "\n",
       "    /**\n",
       "     * Register the mime type and append_mime function with output_area\n",
       "     */\n",
       "    OutputArea.prototype.register_mime_type(EXEC_MIME_TYPE, append_mime, {\n",
       "      /* Is output safe? */\n",
       "      safe: true,\n",
       "      /* Index of renderer in `output_area.display_order` */\n",
       "      index: 0\n",
       "    });\n",
       "  }\n",
       "\n",
       "  // register the mime type if in Jupyter Notebook environment and previously unregistered\n",
       "  if (root.Jupyter !== undefined) {\n",
       "    const events = require('base/js/events');\n",
       "    const OutputArea = require('notebook/js/outputarea').OutputArea;\n",
       "\n",
       "    if (OutputArea.prototype.mime_types().indexOf(EXEC_MIME_TYPE) == -1) {\n",
       "      register_renderer(events, OutputArea);\n",
       "    }\n",
       "  }\n",
       "  if (typeof (root._bokeh_timeout) === \"undefined\" || force === true) {\n",
       "    root._bokeh_timeout = Date.now() + 5000;\n",
       "    root._bokeh_failed_load = false;\n",
       "  }\n",
       "\n",
       "  const NB_LOAD_WARNING = {'data': {'text/html':\n",
       "     \"<div style='background-color: #fdd'>\\n\"+\n",
       "     \"<p>\\n\"+\n",
       "     \"BokehJS does not appear to have successfully loaded. If loading BokehJS from CDN, this \\n\"+\n",
       "     \"may be due to a slow or bad network connection. Possible fixes:\\n\"+\n",
       "     \"</p>\\n\"+\n",
       "     \"<ul>\\n\"+\n",
       "     \"<li>re-rerun `output_notebook()` to attempt to load from CDN again, or</li>\\n\"+\n",
       "     \"<li>use INLINE resources instead, as so:</li>\\n\"+\n",
       "     \"</ul>\\n\"+\n",
       "     \"<code>\\n\"+\n",
       "     \"from bokeh.resources import INLINE\\n\"+\n",
       "     \"output_notebook(resources=INLINE)\\n\"+\n",
       "     \"</code>\\n\"+\n",
       "     \"</div>\"}};\n",
       "\n",
       "  function display_loaded() {\n",
       "    const el = document.getElementById(\"a9df2e32-1fe7-4302-95dc-391c53892411\");\n",
       "    if (el != null) {\n",
       "      el.textContent = \"BokehJS is loading...\";\n",
       "    }\n",
       "    if (root.Bokeh !== undefined) {\n",
       "      if (el != null) {\n",
       "        el.textContent = \"BokehJS \" + root.Bokeh.version + \" successfully loaded.\";\n",
       "      }\n",
       "    } else if (Date.now() < root._bokeh_timeout) {\n",
       "      setTimeout(display_loaded, 100)\n",
       "    }\n",
       "  }\n",
       "\n",
       "  function run_callbacks() {\n",
       "    try {\n",
       "      root._bokeh_onload_callbacks.forEach(function(callback) {\n",
       "        if (callback != null)\n",
       "          callback();\n",
       "      });\n",
       "    } finally {\n",
       "      delete root._bokeh_onload_callbacks\n",
       "    }\n",
       "    console.debug(\"Bokeh: all callbacks have finished\");\n",
       "  }\n",
       "\n",
       "  function load_libs(css_urls, js_urls, callback) {\n",
       "    if (css_urls == null) css_urls = [];\n",
       "    if (js_urls == null) js_urls = [];\n",
       "\n",
       "    root._bokeh_onload_callbacks.push(callback);\n",
       "    if (root._bokeh_is_loading > 0) {\n",
       "      console.debug(\"Bokeh: BokehJS is being loaded, scheduling callback at\", now());\n",
       "      return null;\n",
       "    }\n",
       "    if (js_urls == null || js_urls.length === 0) {\n",
       "      run_callbacks();\n",
       "      return null;\n",
       "    }\n",
       "    console.debug(\"Bokeh: BokehJS not loaded, scheduling load and callback at\", now());\n",
       "    root._bokeh_is_loading = css_urls.length + js_urls.length;\n",
       "\n",
       "    function on_load() {\n",
       "      root._bokeh_is_loading--;\n",
       "      if (root._bokeh_is_loading === 0) {\n",
       "        console.debug(\"Bokeh: all BokehJS libraries/stylesheets loaded\");\n",
       "        run_callbacks()\n",
       "      }\n",
       "    }\n",
       "\n",
       "    function on_error(url) {\n",
       "      console.error(\"failed to load \" + url);\n",
       "    }\n",
       "\n",
       "    for (let i = 0; i < css_urls.length; i++) {\n",
       "      const url = css_urls[i];\n",
       "      const element = document.createElement(\"link\");\n",
       "      element.onload = on_load;\n",
       "      element.onerror = on_error.bind(null, url);\n",
       "      element.rel = \"stylesheet\";\n",
       "      element.type = \"text/css\";\n",
       "      element.href = url;\n",
       "      console.debug(\"Bokeh: injecting link tag for BokehJS stylesheet: \", url);\n",
       "      document.body.appendChild(element);\n",
       "    }\n",
       "\n",
       "    for (let i = 0; i < js_urls.length; i++) {\n",
       "      const url = js_urls[i];\n",
       "      const element = document.createElement('script');\n",
       "      element.onload = on_load;\n",
       "      element.onerror = on_error.bind(null, url);\n",
       "      element.async = false;\n",
       "      element.src = url;\n",
       "      console.debug(\"Bokeh: injecting script tag for BokehJS library: \", url);\n",
       "      document.head.appendChild(element);\n",
       "    }\n",
       "  };\n",
       "\n",
       "  function inject_raw_css(css) {\n",
       "    const element = document.createElement(\"style\");\n",
       "    element.appendChild(document.createTextNode(css));\n",
       "    document.body.appendChild(element);\n",
       "  }\n",
       "\n",
       "  const js_urls = [\"https://cdn.bokeh.org/bokeh/release/bokeh-3.3.4.min.js\", \"https://cdn.bokeh.org/bokeh/release/bokeh-gl-3.3.4.min.js\", \"https://cdn.bokeh.org/bokeh/release/bokeh-widgets-3.3.4.min.js\", \"https://cdn.bokeh.org/bokeh/release/bokeh-tables-3.3.4.min.js\", \"https://cdn.bokeh.org/bokeh/release/bokeh-mathjax-3.3.4.min.js\"];\n",
       "  const css_urls = [];\n",
       "\n",
       "  const inline_js = [    function(Bokeh) {\n",
       "      Bokeh.set_log_level(\"info\");\n",
       "    },\n",
       "function(Bokeh) {\n",
       "    }\n",
       "  ];\n",
       "\n",
       "  function run_inline_js() {\n",
       "    if (root.Bokeh !== undefined || force === true) {\n",
       "          for (let i = 0; i < inline_js.length; i++) {\n",
       "      inline_js[i].call(root, root.Bokeh);\n",
       "    }\n",
       "if (force === true) {\n",
       "        display_loaded();\n",
       "      }} else if (Date.now() < root._bokeh_timeout) {\n",
       "      setTimeout(run_inline_js, 100);\n",
       "    } else if (!root._bokeh_failed_load) {\n",
       "      console.log(\"Bokeh: BokehJS failed to load within specified timeout.\");\n",
       "      root._bokeh_failed_load = true;\n",
       "    } else if (force !== true) {\n",
       "      const cell = $(document.getElementById(\"a9df2e32-1fe7-4302-95dc-391c53892411\")).parents('.cell').data().cell;\n",
       "      cell.output_area.append_execute_result(NB_LOAD_WARNING)\n",
       "    }\n",
       "  }\n",
       "\n",
       "  if (root._bokeh_is_loading === 0) {\n",
       "    console.debug(\"Bokeh: BokehJS loaded, going straight to plotting\");\n",
       "    run_inline_js();\n",
       "  } else {\n",
       "    load_libs(css_urls, js_urls, function() {\n",
       "      console.debug(\"Bokeh: BokehJS plotting callback run at\", now());\n",
       "      run_inline_js();\n",
       "    });\n",
       "  }\n",
       "}(window));"
      ],
      "application/vnd.bokehjs_load.v0+json": "(function(root) {\n  function now() {\n    return new Date();\n  }\n\n  const force = true;\n\n  if (typeof root._bokeh_onload_callbacks === \"undefined\" || force === true) {\n    root._bokeh_onload_callbacks = [];\n    root._bokeh_is_loading = undefined;\n  }\n\n\n  if (typeof (root._bokeh_timeout) === \"undefined\" || force === true) {\n    root._bokeh_timeout = Date.now() + 5000;\n    root._bokeh_failed_load = false;\n  }\n\n  const NB_LOAD_WARNING = {'data': {'text/html':\n     \"<div style='background-color: #fdd'>\\n\"+\n     \"<p>\\n\"+\n     \"BokehJS does not appear to have successfully loaded. If loading BokehJS from CDN, this \\n\"+\n     \"may be due to a slow or bad network connection. Possible fixes:\\n\"+\n     \"</p>\\n\"+\n     \"<ul>\\n\"+\n     \"<li>re-rerun `output_notebook()` to attempt to load from CDN again, or</li>\\n\"+\n     \"<li>use INLINE resources instead, as so:</li>\\n\"+\n     \"</ul>\\n\"+\n     \"<code>\\n\"+\n     \"from bokeh.resources import INLINE\\n\"+\n     \"output_notebook(resources=INLINE)\\n\"+\n     \"</code>\\n\"+\n     \"</div>\"}};\n\n  function display_loaded() {\n    const el = document.getElementById(\"a9df2e32-1fe7-4302-95dc-391c53892411\");\n    if (el != null) {\n      el.textContent = \"BokehJS is loading...\";\n    }\n    if (root.Bokeh !== undefined) {\n      if (el != null) {\n        el.textContent = \"BokehJS \" + root.Bokeh.version + \" successfully loaded.\";\n      }\n    } else if (Date.now() < root._bokeh_timeout) {\n      setTimeout(display_loaded, 100)\n    }\n  }\n\n  function run_callbacks() {\n    try {\n      root._bokeh_onload_callbacks.forEach(function(callback) {\n        if (callback != null)\n          callback();\n      });\n    } finally {\n      delete root._bokeh_onload_callbacks\n    }\n    console.debug(\"Bokeh: all callbacks have finished\");\n  }\n\n  function load_libs(css_urls, js_urls, callback) {\n    if (css_urls == null) css_urls = [];\n    if (js_urls == null) js_urls = [];\n\n    root._bokeh_onload_callbacks.push(callback);\n    if (root._bokeh_is_loading > 0) {\n      console.debug(\"Bokeh: BokehJS is being loaded, scheduling callback at\", now());\n      return null;\n    }\n    if (js_urls == null || js_urls.length === 0) {\n      run_callbacks();\n      return null;\n    }\n    console.debug(\"Bokeh: BokehJS not loaded, scheduling load and callback at\", now());\n    root._bokeh_is_loading = css_urls.length + js_urls.length;\n\n    function on_load() {\n      root._bokeh_is_loading--;\n      if (root._bokeh_is_loading === 0) {\n        console.debug(\"Bokeh: all BokehJS libraries/stylesheets loaded\");\n        run_callbacks()\n      }\n    }\n\n    function on_error(url) {\n      console.error(\"failed to load \" + url);\n    }\n\n    for (let i = 0; i < css_urls.length; i++) {\n      const url = css_urls[i];\n      const element = document.createElement(\"link\");\n      element.onload = on_load;\n      element.onerror = on_error.bind(null, url);\n      element.rel = \"stylesheet\";\n      element.type = \"text/css\";\n      element.href = url;\n      console.debug(\"Bokeh: injecting link tag for BokehJS stylesheet: \", url);\n      document.body.appendChild(element);\n    }\n\n    for (let i = 0; i < js_urls.length; i++) {\n      const url = js_urls[i];\n      const element = document.createElement('script');\n      element.onload = on_load;\n      element.onerror = on_error.bind(null, url);\n      element.async = false;\n      element.src = url;\n      console.debug(\"Bokeh: injecting script tag for BokehJS library: \", url);\n      document.head.appendChild(element);\n    }\n  };\n\n  function inject_raw_css(css) {\n    const element = document.createElement(\"style\");\n    element.appendChild(document.createTextNode(css));\n    document.body.appendChild(element);\n  }\n\n  const js_urls = [\"https://cdn.bokeh.org/bokeh/release/bokeh-3.3.4.min.js\", \"https://cdn.bokeh.org/bokeh/release/bokeh-gl-3.3.4.min.js\", \"https://cdn.bokeh.org/bokeh/release/bokeh-widgets-3.3.4.min.js\", \"https://cdn.bokeh.org/bokeh/release/bokeh-tables-3.3.4.min.js\", \"https://cdn.bokeh.org/bokeh/release/bokeh-mathjax-3.3.4.min.js\"];\n  const css_urls = [];\n\n  const inline_js = [    function(Bokeh) {\n      Bokeh.set_log_level(\"info\");\n    },\nfunction(Bokeh) {\n    }\n  ];\n\n  function run_inline_js() {\n    if (root.Bokeh !== undefined || force === true) {\n          for (let i = 0; i < inline_js.length; i++) {\n      inline_js[i].call(root, root.Bokeh);\n    }\nif (force === true) {\n        display_loaded();\n      }} else if (Date.now() < root._bokeh_timeout) {\n      setTimeout(run_inline_js, 100);\n    } else if (!root._bokeh_failed_load) {\n      console.log(\"Bokeh: BokehJS failed to load within specified timeout.\");\n      root._bokeh_failed_load = true;\n    } else if (force !== true) {\n      const cell = $(document.getElementById(\"a9df2e32-1fe7-4302-95dc-391c53892411\")).parents('.cell').data().cell;\n      cell.output_area.append_execute_result(NB_LOAD_WARNING)\n    }\n  }\n\n  if (root._bokeh_is_loading === 0) {\n    console.debug(\"Bokeh: BokehJS loaded, going straight to plotting\");\n    run_inline_js();\n  } else {\n    load_libs(css_urls, js_urls, function() {\n      console.debug(\"Bokeh: BokehJS plotting callback run at\", now());\n      run_inline_js();\n    });\n  }\n}(window));"
     },
     "metadata": {},
     "output_type": "display_data"
    },
    {
     "data": {
      "application/vnd.jupyter.widget-view+json": {
       "model_id": "2c5123248bad42bbb103337078f2fcc7",
       "version_major": 2,
       "version_minor": 0
      },
      "text/plain": [
       "VBox(children=(Dropdown(description='Select City', options=('Madrid', 'London', 'Paris', 'Barcelona'), value='…"
      ]
     },
     "metadata": {},
     "output_type": "display_data"
    },
    {
     "data": {
      "application/vnd.jupyter.widget-view+json": {
       "model_id": "d81acf517f504ea1a332e58f4410eaa9",
       "version_major": 2,
       "version_minor": 0
      },
      "text/plain": [
       "Output()"
      ]
     },
     "metadata": {},
     "output_type": "display_data"
    },
    {
     "data": {
      "application/vnd.jupyter.widget-view+json": {
       "model_id": "bc5b1a9abb6a4a63a0503b28992ee353",
       "version_major": 2,
       "version_minor": 0
      },
      "text/plain": [
       "Output()"
      ]
     },
     "metadata": {},
     "output_type": "display_data"
    }
   ],
   "source": [
    "# Function to handle update button click\n",
    "def on_update_button_clicked(button):\n",
    "    city = city_select.value\n",
    "    access_token = get_access_token()\n",
    "    originLocationCode = 'MAD'\n",
    "    destinationLocationCode = airport_select.value\n",
    "    departure_date = departure_date_picker.value.strftime('%Y-%m-%d')\n",
    "    \n",
    "    # Clear previous outputs\n",
    "    flight_details_output.clear_output()\n",
    "    weather_output.clear_output()\n",
    "    \n",
    "    with flight_details_output:\n",
    "        # Fetch and display flight details\n",
    "        flight_data_table = update_flight_offers(city, access_token, originLocationCode, destinationLocationCode, departure_date)\n",
    "        if flight_data_table is not None:\n",
    "            display(flight_data_table)\n",
    "        else:\n",
    "            print(\"No flight offers found.\")\n",
    "    \n",
    "    with weather_output:\n",
    "        # Fetch and display weather forecast\n",
    "        # Replace with your actual API key\n",
    "        forecast_df = fetch_10_day_forecast(city, weather_key)\n",
    "        \n",
    "        if not forecast_df.empty:\n",
    "            display(forecast_df)\n",
    "        else:\n",
    "            print(\"No forecast data available.\")\n",
    "\n",
    "# Initialize Bokeh for output in the notebook\n",
    "output_notebook()\n",
    "\n",
    "# List of cities\n",
    "cities = ['Madrid', 'London', 'Paris', 'Barcelona']\n",
    "\n",
    "# Create widgets\n",
    "city_select = widgets.Dropdown(options=cities, description='Select City')\n",
    "airport_select = widgets.Dropdown(description='Select Airport')\n",
    "departure_date_picker = widgets.DatePicker(description='Select Date')\n",
    "update_button = widgets.Button(description='Get Flights')\n",
    "flight_details_output = widgets.Output()  # Output widget to display flight details table\n",
    "weather_output = widgets.Output()  # Output widget to display weather forecast\n",
    "\n",
    "# Attach the observer to update airport options when the city is selected\n",
    "def update_airport_options(change):\n",
    "    city = change.new\n",
    "    airports = get_airport_codes(city)\n",
    "    if airports:\n",
    "        airport_select.options = airports\n",
    "        airport_select.value = list(airports.values())[0]\n",
    "\n",
    "city_select.observe(update_airport_options, names='value')\n",
    "\n",
    "# Attach the event handler to the update button\n",
    "update_button.on_click(on_update_button_clicked)\n",
    "\n",
    "# Define a container for the widgets\n",
    "inputs = VBox([city_select, airport_select, departure_date_picker, update_button])\n",
    "\n",
    "# Display the widgets and outputs\n",
    "display(inputs, flight_details_output, weather_output)"
   ]
  },
  {
   "cell_type": "code",
   "execution_count": null,
   "id": "2877282d-aaf8-4004-965c-5e8be22a42e9",
   "metadata": {},
   "outputs": [],
   "source": []
  },
  {
   "cell_type": "code",
   "execution_count": null,
   "id": "195c2ef4-e70b-4f8e-a83e-13bb9cb48957",
   "metadata": {},
   "outputs": [],
   "source": []
  },
  {
   "cell_type": "code",
   "execution_count": null,
   "id": "8368083a-d7e0-4359-ab3e-41e3ec00472d",
   "metadata": {},
   "outputs": [],
   "source": []
  },
  {
   "cell_type": "code",
   "execution_count": null,
   "id": "68c2acc1-9d23-4574-89f9-506215e5b9b1",
   "metadata": {},
   "outputs": [],
   "source": []
  },
  {
   "cell_type": "code",
   "execution_count": null,
   "id": "174d9f82-f6fa-45f7-bc17-884bc5590fea",
   "metadata": {},
   "outputs": [],
   "source": []
  },
  {
   "cell_type": "markdown",
   "id": "4362020c-9427-441e-a221-7b14661dfb3f",
   "metadata": {},
   "source": [
    "# ENOUGH ALREADY"
   ]
  },
  {
   "cell_type": "code",
   "execution_count": 14,
   "id": "b555f346-53dd-41d8-9d48-8176f8039d96",
   "metadata": {},
   "outputs": [],
   "source": []
  },
  {
   "cell_type": "code",
   "execution_count": 170,
   "id": "7034f414-eb95-47a2-a388-6864a9eb08d5",
   "metadata": {},
   "outputs": [],
   "source": []
  },
  {
   "cell_type": "markdown",
   "id": "a98cea95-556c-4b3a-9c06-cb2076dfc391",
   "metadata": {},
   "source": [
    "# Re doing it"
   ]
  },
  {
   "cell_type": "code",
   "execution_count": 36,
   "id": "c5b58fb7-a913-4536-8f97-7f4cedd514dd",
   "metadata": {},
   "outputs": [],
   "source": []
  },
  {
   "cell_type": "code",
   "execution_count": null,
   "id": "5417c7cd-82f4-4901-8acb-7522bab42c42",
   "metadata": {},
   "outputs": [],
   "source": []
  },
  {
   "cell_type": "markdown",
   "id": "bf3559c0-159f-419e-b597-f85d6563b250",
   "metadata": {},
   "source": [
    "Comment on what the function does and the input/output"
   ]
  },
  {
   "cell_type": "code",
   "execution_count": null,
   "id": "46907ee9-f760-4aaa-ad2b-14536172a02e",
   "metadata": {},
   "outputs": [],
   "source": []
  },
  {
   "cell_type": "code",
   "execution_count": null,
   "id": "bdccb4b3-e5fd-4a27-ae24-cff1fd3181bd",
   "metadata": {},
   "outputs": [],
   "source": []
  },
  {
   "cell_type": "code",
   "execution_count": null,
   "id": "6a1e83da-5440-4ca4-8e5f-3c9708d1151d",
   "metadata": {},
   "outputs": [],
   "source": []
  },
  {
   "cell_type": "code",
   "execution_count": null,
   "id": "3e7bd45f-d63b-47ed-84aa-60f31b6aac9b",
   "metadata": {},
   "outputs": [],
   "source": []
  },
  {
   "cell_type": "code",
   "execution_count": null,
   "id": "57015b57-6311-4c47-bea4-96f4cb51b8f8",
   "metadata": {},
   "outputs": [],
   "source": []
  },
  {
   "cell_type": "code",
   "execution_count": null,
   "id": "815da449-078d-4f90-adfd-e87fa84bd843",
   "metadata": {},
   "outputs": [],
   "source": []
  },
  {
   "cell_type": "code",
   "execution_count": null,
   "id": "7d434b32-1188-4618-92fe-d416a5e7f579",
   "metadata": {},
   "outputs": [],
   "source": []
  },
  {
   "cell_type": "markdown",
   "id": "96d12002-cce0-49e8-902f-060cc0bc526f",
   "metadata": {},
   "source": []
  },
  {
   "cell_type": "markdown",
   "id": "d9b03357-b2a3-4bd6-b248-615c8fcd5547",
   "metadata": {},
   "source": []
  },
  {
   "cell_type": "code",
   "execution_count": null,
   "id": "6f516f63-e7dd-4b2e-9bd1-5dea2d0270be",
   "metadata": {},
   "outputs": [],
   "source": []
  },
  {
   "cell_type": "markdown",
   "id": "bd5e146d-0fe8-4f28-8d08-e22836ef1802",
   "metadata": {},
   "source": []
  },
  {
   "cell_type": "code",
   "execution_count": 171,
   "id": "0bbe93b6-2b30-4ef0-8e10-983ac3d6585c",
   "metadata": {},
   "outputs": [],
   "source": []
  },
  {
   "cell_type": "markdown",
   "id": "77496983-1133-4caa-86fa-616fcfd8bb04",
   "metadata": {},
   "source": []
  },
  {
   "cell_type": "code",
   "execution_count": 172,
   "id": "8d5a3040-1bdc-4aff-895d-7b9b3cc5d522",
   "metadata": {},
   "outputs": [],
   "source": []
  },
  {
   "cell_type": "code",
   "execution_count": null,
   "id": "005fefa7-66ee-4c32-9c53-0847851f9991",
   "metadata": {},
   "outputs": [],
   "source": []
  },
  {
   "cell_type": "code",
   "execution_count": null,
   "id": "a0bd4756-b227-436d-bf76-7c254efb6420",
   "metadata": {},
   "outputs": [],
   "source": []
  },
  {
   "cell_type": "code",
   "execution_count": null,
   "id": "08dc0fe8-21a3-425b-a835-12ec697cd793",
   "metadata": {},
   "outputs": [],
   "source": []
  },
  {
   "cell_type": "code",
   "execution_count": null,
   "id": "7244cda5-6d56-4ad0-a392-363ed8576ea3",
   "metadata": {},
   "outputs": [],
   "source": []
  },
  {
   "cell_type": "code",
   "execution_count": 202,
   "id": "918876d8-258a-485a-a76c-131e509c8954",
   "metadata": {},
   "outputs": [],
   "source": []
  },
  {
   "cell_type": "code",
   "execution_count": null,
   "id": "263e135c-11ff-4b91-8b9e-b3c746d9a9e1",
   "metadata": {},
   "outputs": [],
   "source": []
  },
  {
   "cell_type": "code",
   "execution_count": 174,
   "id": "4663667f-b174-4ccb-b3f5-cb286b5d5d5a",
   "metadata": {},
   "outputs": [],
   "source": []
  },
  {
   "cell_type": "markdown",
   "id": "99df0292-b7b5-491c-a9d6-89c429272d29",
   "metadata": {},
   "source": []
  },
  {
   "cell_type": "code",
   "execution_count": 175,
   "id": "80e81f4c-8f65-41ad-a4e6-c915dfe0f16c",
   "metadata": {},
   "outputs": [],
   "source": []
  },
  {
   "cell_type": "markdown",
   "id": "d24e0acc-7f96-4d2a-867c-75ccdd34412b",
   "metadata": {},
   "source": []
  },
  {
   "cell_type": "code",
   "execution_count": 176,
   "id": "b879869a-556a-44dd-91da-94888aee2b88",
   "metadata": {},
   "outputs": [],
   "source": [
    "\n"
   ]
  },
  {
   "cell_type": "markdown",
   "id": "8d37eb05-406d-43ac-b59e-53a6357d7e33",
   "metadata": {},
   "source": []
  },
  {
   "cell_type": "code",
   "execution_count": 177,
   "id": "7132448f-f0f1-4ea7-9bfc-4f3bea644a1b",
   "metadata": {},
   "outputs": [],
   "source": []
  },
  {
   "cell_type": "markdown",
   "id": "25df8051-081c-47ea-b173-57ab45a01c8c",
   "metadata": {},
   "source": []
  },
  {
   "cell_type": "code",
   "execution_count": 178,
   "id": "7e1bad4a-a838-453c-8f49-2c6294bac1ac",
   "metadata": {},
   "outputs": [],
   "source": [
    "\n"
   ]
  },
  {
   "cell_type": "markdown",
   "id": "bb755cb0-0896-4e6a-bbae-7135a0d2f2a9",
   "metadata": {},
   "source": []
  },
  {
   "cell_type": "code",
   "execution_count": null,
   "id": "c7f1fa18-0dbd-40d7-88eb-e39dd55fcdfd",
   "metadata": {},
   "outputs": [],
   "source": []
  },
  {
   "cell_type": "markdown",
   "id": "618a6cc6-40cf-4f4e-b94c-a04c8fdc8f0c",
   "metadata": {},
   "source": []
  },
  {
   "cell_type": "code",
   "execution_count": null,
   "id": "666d55cc-043b-47b1-af01-00d545833176",
   "metadata": {},
   "outputs": [],
   "source": []
  },
  {
   "cell_type": "markdown",
   "id": "92a38ba7-db6e-4ac8-bb3e-5acdfe1fecbc",
   "metadata": {},
   "source": []
  },
  {
   "cell_type": "code",
   "execution_count": 179,
   "id": "4134c780-76fc-412d-b802-8778c2a4088b",
   "metadata": {},
   "outputs": [],
   "source": []
  },
  {
   "cell_type": "markdown",
   "id": "a1ffcdde-bd7c-4f4c-850c-216246594b98",
   "metadata": {},
   "source": []
  },
  {
   "cell_type": "code",
   "execution_count": 180,
   "id": "4a65a7d8-f325-4c1e-837d-c31f03ae74e5",
   "metadata": {},
   "outputs": [],
   "source": []
  },
  {
   "cell_type": "markdown",
   "id": "5c52675e-34e4-414f-97ff-24e7eb3141f7",
   "metadata": {},
   "source": []
  },
  {
   "cell_type": "code",
   "execution_count": 181,
   "id": "14ff09db-63fd-46d5-8f12-f6d2b58438dd",
   "metadata": {},
   "outputs": [],
   "source": []
  },
  {
   "cell_type": "code",
   "execution_count": null,
   "id": "ca877f25-1866-4a32-a59e-e553ca93abb5",
   "metadata": {},
   "outputs": [],
   "source": []
  },
  {
   "cell_type": "code",
   "execution_count": null,
   "id": "45dc23b8-eac6-4676-bbec-79ddf505756f",
   "metadata": {},
   "outputs": [],
   "source": []
  },
  {
   "cell_type": "code",
   "execution_count": 26,
   "id": "0ea9efb0-c3f0-4f45-b1ed-7e1d8ba4fe86",
   "metadata": {},
   "outputs": [],
   "source": [
    "#flight_offers_response = get_flight_details(access_token, originLocationCode, destinationLocationCode, departureDate)\n"
   ]
  },
  {
   "cell_type": "code",
   "execution_count": null,
   "id": "b9fd7da4-b1c4-44c3-9ce5-d0093ced557f",
   "metadata": {},
   "outputs": [],
   "source": []
  },
  {
   "cell_type": "code",
   "execution_count": 28,
   "id": "63577197-4558-49ec-ad1b-5d6b0f051c73",
   "metadata": {},
   "outputs": [],
   "source": [
    "#df = process_flight_data(flight_offers_response)"
   ]
  },
  {
   "cell_type": "code",
   "execution_count": null,
   "id": "53d1a5ac-6669-4c4c-8dad-96dca165c10c",
   "metadata": {},
   "outputs": [],
   "source": []
  }
 ],
 "metadata": {
  "kernelspec": {
   "display_name": "Python 3 (ipykernel)",
   "language": "python",
   "name": "python3"
  },
  "language_info": {
   "codemirror_mode": {
    "name": "ipython",
    "version": 3
   },
   "file_extension": ".py",
   "mimetype": "text/x-python",
   "name": "python",
   "nbconvert_exporter": "python",
   "pygments_lexer": "ipython3",
   "version": "3.11.7"
  }
 },
 "nbformat": 4,
 "nbformat_minor": 5
}
