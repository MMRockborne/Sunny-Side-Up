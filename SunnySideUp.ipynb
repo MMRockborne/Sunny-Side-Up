{
 "cells": [
  {
   "cell_type": "markdown",
   "id": "465a5a71-bade-41a0-aa7c-805d2c59248d",
   "metadata": {},
   "source": []
  },
  {
   "cell_type": "code",
   "execution_count": 1,
   "id": "e692df2a-db01-4429-93ce-c96c90a5e66f",
   "metadata": {},
   "outputs": [],
   "source": [
    "# Import libraries\n",
    "import requests\n",
    "import pandas as pd\n",
    "from bokeh.plotting import output_file, show\n",
    "from bokeh.models import Select, Div, Button, ColumnDataSource, HTMLTemplateFormatter,TableColumn, DataTable\n",
    "from bokeh.models.widgets import DateRangePicker, DataTable, TableColumn\n",
    "from bokeh.layouts import column\n",
    "# Import necessary modules\n",
    "from ipywidgets import interact, widgets, VBox, HBox\n",
    "from IPython.display import display, HTML\n",
    "from bokeh.io import push_notebook, show, output_notebook\n",
    "import pandas as pd\n",
    "# Import the necessary modules\n",
    "from ipywidgets import HTML\n",
    "from IPython.display import display, HTML as IPHTML"
   ]
  },
  {
   "cell_type": "code",
   "execution_count": 2,
   "id": "60aa06fb-2795-4b85-8ec8-fd6a66d49c42",
   "metadata": {},
   "outputs": [],
   "source": [
    "# Import all APIs form config.py\n",
    "# WeatherAPI key\n",
    "weather_key = \"11da115d9a8d4556bd993522240506\""
   ]
  },
  {
   "cell_type": "code",
   "execution_count": null,
   "id": "3a3119ff-5bfd-40ec-a3c5-9d79b277cef7",
   "metadata": {},
   "outputs": [],
   "source": []
  },
  {
   "cell_type": "code",
   "execution_count": 3,
   "id": "44e7cb96-0931-408a-b059-9d6831cc39df",
   "metadata": {},
   "outputs": [
    {
     "name": "stdout",
     "output_type": "stream",
     "text": [
      "Access Token: enCXItQPHBeMT7H1FOgj4JYzADGf\n"
     ]
    }
   ],
   "source": [
    "def get_access_token():\n",
    "    url = \"https://test.api.amadeus.com/v1/security/oauth2/token\"\n",
    "    headers = {\n",
    "        \"Content-Type\": \"application/x-www-form-urlencoded\"\n",
    "    }\n",
    "    data = {\n",
    "        \"grant_type\": \"client_credentials\",\n",
    "        \"client_id\": 'gAJOLRiyFCjYVuCEIspShbBroNVLSgpw',\n",
    "        \"client_secret\": 'ZDHiCX0h0NYIBm0B'\n",
    "    }\n",
    " \n",
    "    response = requests.post(url, headers=headers, data=data)\n",
    "    if response.status_code == 200:\n",
    "        # Extract the access token from the response JSON\n",
    "        access_token = response.json()['access_token']\n",
    "        print(\"Access Token:\", access_token)\n",
    "    else:\n",
    "        # Print error message if the request was not successful\n",
    "        print(\"Failed to obtain access token:\", response.status_code, response.text)\n",
    "    return access_token\n",
    "\n",
    "# Get access token\n",
    "access_token = get_access_token()"
   ]
  },
  {
   "cell_type": "code",
   "execution_count": null,
   "id": "7dca3ba1-c3a8-4c72-b0b5-9eb90d6badf3",
   "metadata": {},
   "outputs": [],
   "source": []
  },
  {
   "cell_type": "code",
   "execution_count": null,
   "id": "4646063f-7cc7-4820-8dff-bbc6a041d4d6",
   "metadata": {},
   "outputs": [],
   "source": []
  },
  {
   "cell_type": "code",
   "execution_count": null,
   "id": "cb5d4472-1eed-4897-bded-fd1698a92d62",
   "metadata": {},
   "outputs": [],
   "source": []
  },
  {
   "cell_type": "code",
   "execution_count": null,
   "id": "cd32a2af-4b06-4f62-a0c7-b007265f3dcb",
   "metadata": {},
   "outputs": [],
   "source": []
  },
  {
   "cell_type": "code",
   "execution_count": null,
   "id": "575ac9ec-91fe-4ca2-8279-fe2e44f9d122",
   "metadata": {},
   "outputs": [],
   "source": []
  },
  {
   "cell_type": "code",
   "execution_count": null,
   "id": "c09042a0-c685-4536-a31c-1f1c0f129294",
   "metadata": {},
   "outputs": [],
   "source": []
  },
  {
   "cell_type": "code",
   "execution_count": null,
   "id": "56622570-0d84-4653-b44a-8fbaa8110fd1",
   "metadata": {},
   "outputs": [],
   "source": []
  },
  {
   "cell_type": "code",
   "execution_count": null,
   "id": "8b536320-91b3-43d6-8bd5-04c3c6a521da",
   "metadata": {},
   "outputs": [],
   "source": []
  },
  {
   "cell_type": "code",
   "execution_count": null,
   "id": "84d7110a-3c47-4ba5-a5a1-ad6eb5f93585",
   "metadata": {},
   "outputs": [],
   "source": []
  },
  {
   "cell_type": "code",
   "execution_count": null,
   "id": "718c0f2c-aa77-4ece-97dc-92b77a111426",
   "metadata": {},
   "outputs": [],
   "source": []
  },
  {
   "cell_type": "code",
   "execution_count": null,
   "id": "78186b86-4197-4c68-9af7-7e2b90b6dd0d",
   "metadata": {},
   "outputs": [],
   "source": []
  },
  {
   "cell_type": "code",
   "execution_count": null,
   "id": "2f44021a-a484-4f0f-bdc9-717f8704c55e",
   "metadata": {},
   "outputs": [],
   "source": []
  },
  {
   "cell_type": "markdown",
   "id": "e9fbcd8a-0688-4c7b-953e-e696d815ef9f",
   "metadata": {},
   "source": [
    "## Get flights according to city, airport and departure date"
   ]
  },
  {
   "cell_type": "code",
   "execution_count": 4,
   "id": "1561d0ea-fa25-46fc-8cbd-1778ed96bf6c",
   "metadata": {},
   "outputs": [],
   "source": [
    "# List of cities\n",
    "cities = ['Madrid', 'London', 'Paris', 'Barcelona', 'Athens']\n",
    "# Function to get flight details\n",
    "def get_flight_details(access_token, originLocationCode, destinationLocationCode, departureDate):\n",
    "    url = \"https://test.api.amadeus.com/v2/shopping/flight-offers\"\n",
    "    headers = {\n",
    "        \"Authorization\": f'Bearer {access_token}',\n",
    "        \"Content-Type\": \"application/json\"\n",
    "    }\n",
    "    params = {\n",
    "        \"originLocationCode\": originLocationCode,\n",
    "        \"destinationLocationCode\": destinationLocationCode,\n",
    "        \"departureDate\": departureDate,\n",
    "        \"adults\": 1,\n",
    "        \"max\": 3\n",
    "    }\n",
    "    response = requests.get(url, headers=headers, params=params)\n",
    "    if response.status_code == 200:\n",
    "        return response.json()\n",
    "    else:\n",
    "        print(\"Failed to get flight details:\", response.status_code, response.text)\n",
    "        return None"
   ]
  },
  {
   "cell_type": "code",
   "execution_count": null,
   "id": "5af34977-13f4-42fb-bd80-eccadcdb40dd",
   "metadata": {},
   "outputs": [],
   "source": []
  },
  {
   "cell_type": "code",
   "execution_count": 5,
   "id": "d3b8611a-260b-4198-bdf0-7f545dfb775b",
   "metadata": {},
   "outputs": [],
   "source": [
    "\n",
    "# Function to process flight data\n",
    "def process_flight_data(flight_offers_response):\n",
    "    if flight_offers_response:\n",
    "        # Extract flight details and create DataFrame\n",
    "        flight_data = []\n",
    "        for flight in flight_offers_response['data']:\n",
    "            itinerary = flight['itineraries'][0]\n",
    "            segment = itinerary['segments'][0]\n",
    "            departure_airport = segment['departure']['iataCode']\n",
    "            arrival_airport = segment['arrival']['iataCode']\n",
    "            departure_time = segment['departure']['at'][-8:-3]\n",
    "            arrival_time = segment['arrival']['at'][-8:-3]\n",
    "\n",
    "            # Convert string time to hours and minutes\n",
    "            departure_hour, departure_minute = map(int, departure_time.split(':'))\n",
    "            arrival_hour, arrival_minute = map(int, arrival_time.split(':'))\n",
    "\n",
    "            # Calculate duration in minutes\n",
    "            duration_minutes = (arrival_hour * 60 + arrival_minute) - (departure_hour * 60 + departure_minute)\n",
    "\n",
    "            # Convert duration to hours and minutes\n",
    "            duration_hours = duration_minutes // 60\n",
    "            duration_minutes = duration_minutes % 60\n",
    "\n",
    "            duration_str = f\"{duration_hours:02d}:{duration_minutes:02d}\"\n",
    "\n",
    "            price = float(flight['price']['total'])\n",
    "            currency = flight['price']['currency']\n",
    "            price_with_currency = f\"{price} {currency}\"\n",
    "\n",
    "            # Combine price with currency\n",
    "            flight_data.append([departure_airport, arrival_airport, departure_time, arrival_time, duration_str, price_with_currency])\n",
    "\n",
    "        # Creating DataFrame\n",
    "        df = pd.DataFrame(flight_data, columns=['DepartureAirport', 'ArrivalAirport', 'DepartureTime', 'ArrivalTime', 'Duration(hours)', 'PriceWithCurrency'])\n",
    "        return df\n",
    "    else:\n",
    "        print(\"No flight offers data available.\")\n",
    "        return None"
   ]
  },
  {
   "cell_type": "code",
   "execution_count": null,
   "id": "11609365-a514-47e6-ba91-2d9dd0c80223",
   "metadata": {},
   "outputs": [],
   "source": []
  },
  {
   "cell_type": "code",
   "execution_count": 6,
   "id": "6d998858-ca7c-4ef9-b6c8-27af116eaf46",
   "metadata": {},
   "outputs": [],
   "source": [
    "# Function to get airport codes based on city\n",
    "def get_airport_codes(city):\n",
    "    api_url = f'https://api.api-ninjas.com/v1/airports?city={city}'\n",
    "    headers = {'X-Api-Key': 'nrc3S/XZWbfao3LeySY9hg==I1u1i9JSOP6NSPFw'}\n",
    "    response = requests.get(api_url, headers=headers)\n",
    "    if response.status_code == requests.codes.ok:\n",
    "        airport_data = response.json()\n",
    "        airport_dict = {}\n",
    "        for airport in airport_data:\n",
    "            airport_code = airport.get('iata')\n",
    "            if airport_code:\n",
    "                airport_name = airport.get('name')\n",
    "                airport_dict[airport_name] = airport_code\n",
    "        return airport_dict\n",
    "    else:\n",
    "        print(\"Error:\", response.status_code, response.text)\n",
    "        return {}"
   ]
  },
  {
   "cell_type": "code",
   "execution_count": null,
   "id": "02506c8f-3194-43b3-a39a-8996ecbf9df6",
   "metadata": {},
   "outputs": [],
   "source": []
  },
  {
   "cell_type": "code",
   "execution_count": 7,
   "id": "b25286c2-bc4d-489e-b05d-cc6333bc98b6",
   "metadata": {},
   "outputs": [
    {
     "data": {
      "text/plain": [
       "'# Function to handle city selection change\\ndef update_selected_city(attr, old, new):\\n    # Update the airport select options based on the new city\\n    airport_codes = get_airport_codes(new)\\n    airport_select.options = airport_codes\\n    airport_select.value = airport_codes[0] if airport_codes else \\'\\'\\n\\n    result_div.text = f\"Selected city: {new}\"'"
      ]
     },
     "execution_count": 7,
     "metadata": {},
     "output_type": "execute_result"
    }
   ],
   "source": [
    "'''# Function to handle city selection change\n",
    "def update_selected_city(attr, old, new):\n",
    "    # Update the airport select options based on the new city\n",
    "    airport_codes = get_airport_codes(new)\n",
    "    airport_select.options = airport_codes\n",
    "    airport_select.value = airport_codes[0] if airport_codes else ''\n",
    "\n",
    "    result_div.text = f\"Selected city: {new}\"'''"
   ]
  },
  {
   "cell_type": "code",
   "execution_count": null,
   "id": "e3bebd64-df32-4f8d-be6e-bec6998912a4",
   "metadata": {},
   "outputs": [],
   "source": []
  },
  {
   "cell_type": "code",
   "execution_count": 8,
   "id": "1426f7e7-70e5-4ac3-a8c8-826f32824a15",
   "metadata": {},
   "outputs": [
    {
     "data": {
      "text/plain": [
       "'# Get initial airport codes\\ninitial_airport_codes = get_airport_codes(cities[0])\\nairport_select = Select(title=\"Airport:\", value=initial_airport_codes[0] if initial_airport_codes else \\'\\', options=initial_airport_codes)\\n'"
      ]
     },
     "execution_count": 8,
     "metadata": {},
     "output_type": "execute_result"
    }
   ],
   "source": [
    "'''# Get initial airport codes\n",
    "initial_airport_codes = get_airport_codes(cities[0])\n",
    "airport_select = Select(title=\"Airport:\", value=initial_airport_codes[0] if initial_airport_codes else '', options=initial_airport_codes)\n",
    "'''"
   ]
  },
  {
   "cell_type": "code",
   "execution_count": null,
   "id": "569d9941-e329-42c9-944a-8696e6f55cfa",
   "metadata": {},
   "outputs": [],
   "source": []
  },
  {
   "cell_type": "code",
   "execution_count": 9,
   "id": "76f00617-af41-4c46-9d35-1c534677f642",
   "metadata": {},
   "outputs": [],
   "source": [
    "# Function to update airport options based on city selection\n",
    "def update_airport_options(change):\n",
    "    city = change['new']\n",
    "    airports = get_airport_codes(city)\n",
    "    if airports:\n",
    "        airport_select.options = airports\n",
    "        airport_select.value = list(airports.values())[0]"
   ]
  },
  {
   "cell_type": "code",
   "execution_count": null,
   "id": "993cea92-bc62-480e-92e6-dfe4d4bf3f58",
   "metadata": {},
   "outputs": [],
   "source": []
  },
  {
   "cell_type": "code",
   "execution_count": 10,
   "id": "22945fd9-371b-4538-b18b-d34210e9e065",
   "metadata": {},
   "outputs": [],
   "source": [
    "# Define the function to update flight offers\n",
    "def update_flight_offers(city, access_token, originLocationCode, destinationLocationCode, departure_date):\n",
    "    # Print values for debugging\n",
    "    print(\"City:\", city)\n",
    "    print(\"Departure Date:\", departure_date)\n",
    "    print(\"Origin Location Code:\", originLocationCode)\n",
    "    print(\"Destination Location Code:\", destinationLocationCode)\n",
    "    \n",
    "    # Call the function to get flight details\n",
    "    flight_offers_response = get_flight_details(access_token, originLocationCode, destinationLocationCode, departure_date)\n",
    "    print(flight_offers_response)\n",
    "    \n",
    "    # Process flight data\n",
    "    if flight_offers_response:\n",
    "        flight_data_table = process_flight_data(flight_offers_response)\n",
    "        if flight_data_table is not None:\n",
    "            # Convert DataFrame to HTML table\n",
    "            flight_details_html = flight_data_table.to_html(index=False)\n",
    "            # Display the HTML table\n",
    "            flight_details_output.value = flight_details_html\n",
    "    else:\n",
    "        print(\"No flight offers found.\")"
   ]
  },
  {
   "cell_type": "code",
   "execution_count": null,
   "id": "e74d255a-e5cc-4eb7-ae09-b57ed1b77b27",
   "metadata": {},
   "outputs": [],
   "source": []
  },
  {
   "cell_type": "code",
   "execution_count": 12,
   "id": "6a30e7c2-b7a8-4e9f-996e-968febc8e585",
   "metadata": {},
   "outputs": [
    {
     "data": {
      "application/vnd.jupyter.widget-view+json": {
       "model_id": "127fac086342456c93c2ca4f757342de",
       "version_major": 2,
       "version_minor": 0
      },
      "text/plain": [
       "VBox(children=(Dropdown(description='Select City', options=('Madrid', 'London', 'Paris', 'Barcelona', 'Athens'…"
      ]
     },
     "metadata": {},
     "output_type": "display_data"
    },
    {
     "data": {
      "application/vnd.jupyter.widget-view+json": {
       "model_id": "738e31f86c384f9f9a95d03973170080",
       "version_major": 2,
       "version_minor": 0
      },
      "text/plain": [
       "HTML(value='')"
      ]
     },
     "metadata": {},
     "output_type": "display_data"
    }
   ],
   "source": [
    "# Import the necessary modules\n",
    "from ipywidgets import HTML\n",
    "from IPython.display import display, HTML as IPHTML\n",
    "\n",
    "city_select = widgets.Dropdown(options=cities, description='Select City')\n",
    "airport_select = widgets.Dropdown(description='Select Airport')\n",
    "departure_date_picker = widgets.DatePicker(description='Select Date')\n",
    "update_button = widgets.Button(description='Get Flights')\n",
    "flight_details_output = widgets.Output()\n",
    "\n",
    "# Define the function to update flight offers\n",
    "def update_flight_offers(city, access_token, originLocationCode, destinationLocationCode, departure_date):\n",
    "    # Print values for debugging\n",
    "    print(\"City:\", city)\n",
    "    print(\"Departure Date:\", departure_date)\n",
    "    print(\"Origin Location Code:\", originLocationCode)\n",
    "    print(\"Destination Location Code:\", destinationLocationCode)\n",
    "    \n",
    "    # Call the function to get flight details\n",
    "    flight_offers_response = get_flight_details(access_token, originLocationCode, destinationLocationCode, departure_date)\n",
    "    print(flight_offers_response)\n",
    "    \n",
    "    # Process flight data\n",
    "    if flight_offers_response:\n",
    "        flight_data_table = process_flight_data(flight_offers_response)\n",
    "        if flight_data_table is not None:\n",
    "            # Convert DataFrame to HTML table\n",
    "            flight_details_html = flight_data_table.to_html(index=False)\n",
    "            # Display the HTML table\n",
    "            flight_details_output.value = flight_details_html\n",
    "    else:\n",
    "        print(\"No flight offers found.\")\n",
    "\n",
    "# Create the HTML widget for displaying flight details\n",
    "flight_details_output = HTML()\n",
    "\n",
    "# Function to handle update button click\n",
    "def on_update_button_clicked(button):\n",
    "    city = city_select.value\n",
    "    access_token = get_access_token()\n",
    "    originLocationCode = 'MAD'\n",
    "    destinationLocationCode = airport_select.value\n",
    "    departure_date = departure_date_picker.value.strftime('%Y-%m-%d')\n",
    "    \n",
    "    update_flight_offers(city, access_token, originLocationCode, destinationLocationCode, departure_date)\n",
    "\n",
    "city_select.observe(update_airport_options, names='value')\n",
    "\n",
    "update_button.on_click(on_update_button_clicked)\n",
    "\n",
    "# Define a container for the widgets\n",
    "inputs = VBox([city_select, airport_select, departure_date_picker, update_button])\n",
    "\n",
    "# Display the widgets\n",
    "display(inputs, flight_details_output)\n"
   ]
  },
  {
   "cell_type": "code",
   "execution_count": null,
   "id": "0848e3e1-ad24-4e6a-8e6f-c825dbdcee81",
   "metadata": {},
   "outputs": [],
   "source": []
  },
  {
   "cell_type": "markdown",
   "id": "c13462f4-804e-44ce-9891-0aaca5d09803",
   "metadata": {},
   "source": [
    "# ONLY UNTIL HERE - DO NOOOOT RUN MORE"
   ]
  },
  {
   "cell_type": "code",
   "execution_count": null,
   "id": "38ed5d40-8d68-4528-ad06-2f1b86be4b92",
   "metadata": {},
   "outputs": [],
   "source": []
  },
  {
   "cell_type": "markdown",
   "id": "6a4b35e0-7e73-4e26-a4c7-85d389c5f261",
   "metadata": {},
   "source": [
    "# STOP RUNNING THE CODE "
   ]
  },
  {
   "cell_type": "code",
   "execution_count": null,
   "id": "8d5342c2-d797-409f-b707-c3d823065148",
   "metadata": {},
   "outputs": [],
   "source": []
  },
  {
   "cell_type": "markdown",
   "id": "4362020c-9427-441e-a221-7b14661dfb3f",
   "metadata": {},
   "source": [
    "# ENOUGH ALREADY"
   ]
  },
  {
   "cell_type": "code",
   "execution_count": 201,
   "id": "b555f346-53dd-41d8-9d48-8176f8039d96",
   "metadata": {},
   "outputs": [],
   "source": [
    "# Function to fetch weather data for the next 10 days for a single city\n",
    "def fetch_10_day_forecast(city, api_key):\n",
    "    base_url = 'http://api.weatherapi.com/v1'\n",
    "    url = f\"{base_url}/forecast.json?key={api_key}&q={city}&days=10\"\n",
    "    response = requests.get(url)\n",
    "    data = response.json()\n",
    "    \n",
    "    # Check if the response contains the necessary forecast data\n",
    "    if 'forecast' in data and 'forecastday' in data['forecast']:\n",
    "        forecast_data = data['forecast']['forecastday']\n",
    "        extracted_data = []\n",
    "        \n",
    "        for day in forecast_data:\n",
    "            date = day['date']\n",
    "            temp = day['day']['avgtemp_c']\n",
    "            humidity = day['day']['avghumidity']\n",
    "            cloudiness = day['day']['condition']['text']\n",
    "            wind_speed = day['day']['maxwind_kph']\n",
    "            \n",
    "            extracted_data.append({\n",
    "                'city': city,\n",
    "                'date': date,\n",
    "                'temp': temp,\n",
    "                'humidity': humidity,\n",
    "                'condition': cloudiness,\n",
    "                'wind_speed': wind_speed\n",
    "            })\n",
    "        \n",
    "        return pd.DataFrame(extracted_data)\n",
    "    else:\n",
    "        print(f\"No forecast data available for {city}\")\n",
    "        return pd.DataFrame()"
   ]
  },
  {
   "cell_type": "markdown",
   "id": "bf3559c0-159f-419e-b597-f85d6563b250",
   "metadata": {},
   "source": [
    "Comment on what the function does and the input/output"
   ]
  },
  {
   "cell_type": "code",
   "execution_count": 170,
   "id": "7034f414-eb95-47a2-a388-6864a9eb08d5",
   "metadata": {},
   "outputs": [],
   "source": [
    "# Function to find the best 7 consecutive days based on specific filters\n",
    "def find_best_7_days(forecast_df, criteria='temp'):\n",
    "    best_city = None\n",
    "    best_start_date = None\n",
    "    best_average = float('-inf') if criteria == 'temp' else float('inf')\n",
    "    \n",
    "    for city in forecast_df['city'].unique():\n",
    "        city_df = forecast_df[forecast_df['city'] == city]\n",
    "        \n",
    "        # Ensure the dates are sorted\n",
    "        city_df = city_df.sort_values(by='date')\n",
    "        \n",
    "        # Iterate over possible 7-day windows\n",
    "        for i in range(len(city_df) - 6):\n",
    "            window = city_df.iloc[i:i+7]\n",
    "            \n",
    "            if criteria == 'temp':\n",
    "                average = window['temp'].mean()\n",
    "                if average > best_average:\n",
    "                    best_average = average\n",
    "                    best_city = city\n",
    "                    best_start_date = window.iloc[0]['date']\n",
    "            elif criteria == 'humidity':\n",
    "                average = window['humidity'].mean()\n",
    "                if average < best_average:\n",
    "                    best_average = average\n",
    "                    best_city = city\n",
    "                    best_start_date = window.iloc[0]['date']\n",
    "            elif criteria == 'wind_speed':\n",
    "                average = window['wind_speed'].mean()\n",
    "                if average < best_average:\n",
    "                    best_average = average\n",
    "                    best_city = city\n",
    "                    best_start_date = window.iloc[0]['date']\n",
    "    \n",
    "    return best_city, best_start_date, best_average"
   ]
  },
  {
   "cell_type": "markdown",
   "id": "96d12002-cce0-49e8-902f-060cc0bc526f",
   "metadata": {},
   "source": []
  },
  {
   "cell_type": "code",
   "execution_count": null,
   "id": "21e574ec-0dd1-4d63-b2ab-cacda3bed6bd",
   "metadata": {},
   "outputs": [],
   "source": []
  },
  {
   "cell_type": "markdown",
   "id": "d9b03357-b2a3-4bd6-b248-615c8fcd5547",
   "metadata": {},
   "source": []
  },
  {
   "cell_type": "code",
   "execution_count": null,
   "id": "6f516f63-e7dd-4b2e-9bd1-5dea2d0270be",
   "metadata": {},
   "outputs": [],
   "source": []
  },
  {
   "cell_type": "markdown",
   "id": "bd5e146d-0fe8-4f28-8d08-e22836ef1802",
   "metadata": {},
   "source": []
  },
  {
   "cell_type": "code",
   "execution_count": 171,
   "id": "0bbe93b6-2b30-4ef0-8e10-983ac3d6585c",
   "metadata": {},
   "outputs": [],
   "source": [
    "# Function to handle button click to update the recommended dates\n",
    "def update_recommended_dates():\n",
    "    selected_city = city_select.value\n",
    "    start_date, end_date = date_range_picker.value_as_datetime\n",
    "    \n",
    "    filtered_df = all_forecast_df[(all_forecast_df['city'] == selected_city) & \n",
    "                                  (all_forecast_df['date'] >= start_date) & \n",
    "                                  (all_forecast_df['date'] <= end_date)]\n",
    "    \n",
    "    if not filtered_df.empty:\n",
    "        avg_temp = filtered_df['temp'].mean()\n",
    "        avg_humidity = filtered_df['humidity'].mean()\n",
    "        result_div.text = f\"Avg. temperature: {avg_temp:.2f}°C<br>Avg. humidity: {avg_humidity:.2f}%\"\n",
    "    else:\n",
    "        result_div.text = f\"No data available for {selected_city} in the selected date range.\"\n"
   ]
  },
  {
   "cell_type": "markdown",
   "id": "77496983-1133-4caa-86fa-616fcfd8bb04",
   "metadata": {},
   "source": []
  },
  {
   "cell_type": "code",
   "execution_count": 172,
   "id": "8d5a3040-1bdc-4aff-895d-7b9b3cc5d522",
   "metadata": {},
   "outputs": [],
   "source": [
    "# Function to handle date range picker change\n",
    "def show_selected_date_range(attr, old, new):\n",
    "    result_div.text = f\"Selected city: {city_select.value}<br>Selected date range: {new[0]} to {new[1]}\""
   ]
  },
  {
   "cell_type": "code",
   "execution_count": null,
   "id": "005fefa7-66ee-4c32-9c53-0847851f9991",
   "metadata": {},
   "outputs": [],
   "source": []
  },
  {
   "cell_type": "code",
   "execution_count": null,
   "id": "a0bd4756-b227-436d-bf76-7c254efb6420",
   "metadata": {},
   "outputs": [],
   "source": []
  },
  {
   "cell_type": "code",
   "execution_count": null,
   "id": "08dc0fe8-21a3-425b-a835-12ec697cd793",
   "metadata": {},
   "outputs": [],
   "source": []
  },
  {
   "cell_type": "code",
   "execution_count": null,
   "id": "7244cda5-6d56-4ad0-a392-363ed8576ea3",
   "metadata": {},
   "outputs": [],
   "source": []
  },
  {
   "cell_type": "code",
   "execution_count": 202,
   "id": "918876d8-258a-485a-a76c-131e509c8954",
   "metadata": {},
   "outputs": [],
   "source": [
    "\n",
    "\n",
    "\n",
    "# Initialize an empty DataFrame to store the combined forecast data\n",
    "all_forecast_df = pd.DataFrame()\n",
    "\n",
    "# Loop through each city and fetch the forecast data\n",
    "for city in cities:\n",
    "    city_forecast_df = fetch_10_day_forecast(city, weather_key)\n",
    "    all_forecast_df = pd.concat([all_forecast_df, city_forecast_df], ignore_index=True)\n",
    "\n",
    "# Create Select for city input with the cities from the DataFrame\n",
    "cities = all_forecast_df['city'].unique().tolist()\n",
    "city_select = Select(title=\"City:\", value=cities[0], options=cities)\n",
    "\n",
    "# Function to apply color based on temperature\n",
    "def apply_temp_color(temp):\n",
    "    if temp < 20:\n",
    "        return 'mediumaquamarine'\n",
    "    elif 20 <= temp < 30:\n",
    "        return 'lightsalmon'\n",
    "    else:\n",
    "        return 'brown'\n",
    "\n"
   ]
  },
  {
   "cell_type": "code",
   "execution_count": null,
   "id": "263e135c-11ff-4b91-8b9e-b3c746d9a9e1",
   "metadata": {},
   "outputs": [],
   "source": []
  },
  {
   "cell_type": "code",
   "execution_count": 174,
   "id": "4663667f-b174-4ccb-b3f5-cb286b5d5d5a",
   "metadata": {},
   "outputs": [],
   "source": [
    "\n",
    "# Function to apply color based on condition - this is not a function, its a dictionary, make it a global variable (?)\n",
    "condition_mapper = {\n",
    "    'Sunny': 'gold',\n",
    "    'Partly cloudy': 'lightblue',\n",
    "    'Cloudy': 'gray',\n",
    "    'Rain': 'blue',\n",
    "    'Clear': 'white'\n",
    "}\n",
    "\n",
    "#this is the function\n",
    "def apply_condition_color(condition):\n",
    "    return condition_mapper.get(condition, 'white')"
   ]
  },
  {
   "cell_type": "markdown",
   "id": "99df0292-b7b5-491c-a9d6-89c429272d29",
   "metadata": {},
   "source": []
  },
  {
   "cell_type": "code",
   "execution_count": 175,
   "id": "80e81f4c-8f65-41ad-a4e6-c915dfe0f16c",
   "metadata": {},
   "outputs": [],
   "source": [
    "# Add columns for coloring\n",
    "all_forecast_df['temp_color'] = all_forecast_df['temp'].apply(apply_temp_color)\n",
    "all_forecast_df['condition_color'] = all_forecast_df['condition'].apply(apply_condition_color)\n",
    "\n",
    "# Why are we outputing an html file? is it to create the web page?\n",
    "# Output to a new HTML file\n",
    "output_file(\"index.html\")"
   ]
  },
  {
   "cell_type": "markdown",
   "id": "d24e0acc-7f96-4d2a-867c-75ccdd34412b",
   "metadata": {},
   "source": []
  },
  {
   "cell_type": "code",
   "execution_count": 176,
   "id": "b879869a-556a-44dd-91da-94888aee2b88",
   "metadata": {},
   "outputs": [],
   "source": [
    "# Find the best 7 consecutive days for high temperature, low humidity, and low wind speed\n",
    "best_city_temp, best_start_date_temp, best_average_temp = find_best_7_days(all_forecast_df, 'temp')\n",
    "best_city_humidity, best_start_date_humidity, best_average_humidity = find_best_7_days(all_forecast_df, 'humidity')\n",
    "best_city_wind_speed, best_start_date_wind_speed, best_average_wind_speed = find_best_7_days(all_forecast_df, 'wind_speed')\n"
   ]
  },
  {
   "cell_type": "markdown",
   "id": "8d37eb05-406d-43ac-b59e-53a6357d7e33",
   "metadata": {},
   "source": []
  },
  {
   "cell_type": "code",
   "execution_count": 177,
   "id": "7132448f-f0f1-4ea7-9bfc-4f3bea644a1b",
   "metadata": {},
   "outputs": [],
   "source": [
    "# Format best_average_temp, best_average_humidity, and best_average_wind_speed to 1 decimal place\n",
    "best_average_temp_formatted = f\"{best_average_temp:.1f}\"\n",
    "best_average_humidity_formatted = f\"{best_average_humidity:.1f}\"\n",
    "best_average_wind_speed_formatted = f\"{best_average_wind_speed:.1f}\"\n"
   ]
  },
  {
   "cell_type": "markdown",
   "id": "25df8051-081c-47ea-b173-57ab45a01c8c",
   "metadata": {},
   "source": []
  },
  {
   "cell_type": "code",
   "execution_count": 178,
   "id": "7e1bad4a-a838-453c-8f49-2c6294bac1ac",
   "metadata": {},
   "outputs": [],
   "source": [
    "# Create a Div to show recommended dates\n",
    "recommended_dates_temp = Div(text=f\"<b>Best week based on high temperature:</b> {best_city_temp}, starting from {best_start_date_temp} with average temp {best_average_temp_formatted}°C.<br>\",\n",
    "                             width=800, height=50)\n",
    "\n",
    "recommended_dates_humidity = Div(text=f\"<b>Best week based on low humidity:</b> {best_city_humidity}, starting from {best_start_date_humidity} with average humidity {best_average_humidity_formatted}%.<br>\",\n",
    "                                 width=800, height=50)\n",
    "\n",
    "recommended_dates_wind_speed = Div(text=f\"<b>Best week based on low wind speed:</b> {best_city_wind_speed}, starting from {best_start_date_wind_speed} with average wind speed {best_average_wind_speed_formatted} kph.<br>\",\n",
    "                                  width=800, height=50)\n"
   ]
  },
  {
   "cell_type": "markdown",
   "id": "bb755cb0-0896-4e6a-bbae-7135a0d2f2a9",
   "metadata": {},
   "source": []
  },
  {
   "cell_type": "code",
   "execution_count": null,
   "id": "c7f1fa18-0dbd-40d7-88eb-e39dd55fcdfd",
   "metadata": {},
   "outputs": [],
   "source": []
  },
  {
   "cell_type": "markdown",
   "id": "618a6cc6-40cf-4f4e-b94c-a04c8fdc8f0c",
   "metadata": {},
   "source": []
  },
  {
   "cell_type": "code",
   "execution_count": null,
   "id": "666d55cc-043b-47b1-af01-00d545833176",
   "metadata": {},
   "outputs": [],
   "source": []
  },
  {
   "cell_type": "markdown",
   "id": "92a38ba7-db6e-4ac8-bb3e-5acdfe1fecbc",
   "metadata": {},
   "source": []
  },
  {
   "cell_type": "code",
   "execution_count": 179,
   "id": "4134c780-76fc-412d-b802-8778c2a4088b",
   "metadata": {},
   "outputs": [],
   "source": [
    "# Logo and header\n",
    "logo_image = Div(text=\"<img src='sunnylogo.png' style='width:100px;height:100px;'>\")\n",
    "title_div = Div(text=\"<h1 style='font-family: Cooper Black, sans-serif; font-size: 36px; color: teal;'><center>Holidays by Sunny Side Up</center></h1>\",\n",
    "                sizing_mode='stretch_width')\n",
    "\n",
    "# Create a Button to update the recommended dates and table\n",
    "update_button = Button(label=\"Discover this city\", css_classes=['custom-button'])\n",
    "\n",
    "\n",
    "# Create a DateRangePicker widget\n",
    "date_range_picker = DateRangePicker(title=\"Select a date range:\")\n",
    "\n",
    "# Create a Div element for displaying the selected city and date range\n",
    "result_div = Div()"
   ]
  },
  {
   "cell_type": "markdown",
   "id": "a1ffcdde-bd7c-4f4c-850c-216246594b98",
   "metadata": {},
   "source": []
  },
  {
   "cell_type": "code",
   "execution_count": 180,
   "id": "4a65a7d8-f325-4c1e-837d-c31f03ae74e5",
   "metadata": {},
   "outputs": [],
   "source": [
    "# Create a DataTable to display the forecast data\n",
    "columns = [\n",
    "    TableColumn(field='city', title='City'),\n",
    "    TableColumn(field='date', title='Date'),\n",
    "    TableColumn(field='temp', title='Temperature', width=100, formatter=HTMLTemplateFormatter(template='<div style=\"background:<%= temp_color %>; color: black;\"> <%= value %> </div>')),\n",
    "    TableColumn(field='humidity', title='Humidity', width=100),\n",
    "    TableColumn(field='condition', title='Condition', width=100, formatter=HTMLTemplateFormatter(template='<div style=\"background:<%= condition_color %>; color: black;\"> <%= value %> </div>')),\n",
    "    TableColumn(field='wind_speed', title='Wind Speed', width=100),\n",
    "]"
   ]
  },
  {
   "cell_type": "markdown",
   "id": "5c52675e-34e4-414f-97ff-24e7eb3141f7",
   "metadata": {},
   "source": []
  },
  {
   "cell_type": "code",
   "execution_count": 181,
   "id": "14ff09db-63fd-46d5-8f12-f6d2b58438dd",
   "metadata": {},
   "outputs": [],
   "source": [
    "source = ColumnDataSource(all_forecast_df)\n",
    "data_table = DataTable(source=source, columns=columns, width=800, height=280)"
   ]
  },
  {
   "cell_type": "code",
   "execution_count": null,
   "id": "ca877f25-1866-4a32-a59e-e553ca93abb5",
   "metadata": {},
   "outputs": [],
   "source": []
  },
  {
   "cell_type": "code",
   "execution_count": null,
   "id": "45dc23b8-eac6-4676-bbec-79ddf505756f",
   "metadata": {},
   "outputs": [],
   "source": []
  },
  {
   "cell_type": "code",
   "execution_count": 26,
   "id": "0ea9efb0-c3f0-4f45-b1ed-7e1d8ba4fe86",
   "metadata": {},
   "outputs": [],
   "source": [
    "#flight_offers_response = get_flight_details(access_token, originLocationCode, destinationLocationCode, departureDate)\n"
   ]
  },
  {
   "cell_type": "code",
   "execution_count": null,
   "id": "b9fd7da4-b1c4-44c3-9ce5-d0093ced557f",
   "metadata": {},
   "outputs": [],
   "source": []
  },
  {
   "cell_type": "code",
   "execution_count": 28,
   "id": "63577197-4558-49ec-ad1b-5d6b0f051c73",
   "metadata": {},
   "outputs": [],
   "source": [
    "#df = process_flight_data(flight_offers_response)"
   ]
  },
  {
   "cell_type": "code",
   "execution_count": null,
   "id": "53d1a5ac-6669-4c4c-8dad-96dca165c10c",
   "metadata": {},
   "outputs": [],
   "source": []
  },
  {
   "cell_type": "code",
   "execution_count": 29,
   "id": "5444a05b-888d-4f20-8940-6b6f6120ab2b",
   "metadata": {},
   "outputs": [],
   "source": [
    "'''flight_source = ColumnDataSource(df)\n",
    "flight_columns = [\n",
    "    TableColumn(field='DepartureAirport', title='Departure Airport'),\n",
    "    TableColumn(field='ArrivalAirport', title='Arrival Airport'),\n",
    "    TableColumn(field='DepartureTime', title='Departure Time'),\n",
    "    TableColumn(field='ArrivalTime', title='Arrival Time'),\n",
    "    TableColumn(field='Duration(hours)', title='Duration (hours)'),\n",
    "    TableColumn(field='PriceWithCurrency', title='Price')\n",
    "]\n",
    "'''"
   ]
  },
  {
   "cell_type": "code",
   "execution_count": null,
   "id": "02e210a5-3b5a-441a-8c4e-3fbd4467b500",
   "metadata": {},
   "outputs": [],
   "source": []
  },
  {
   "cell_type": "code",
   "execution_count": 30,
   "id": "e11e1e3b-16cf-4b8c-b299-0619f8d385b4",
   "metadata": {},
   "outputs": [],
   "source": [
    "#flight_data_table = DataTable(source=flight_source, columns=flight_columns, width=800, height=280)"
   ]
  },
  {
   "cell_type": "code",
   "execution_count": null,
   "id": "409f47ab-bf5d-4bd6-a2c9-c700c41f672e",
   "metadata": {},
   "outputs": [],
   "source": []
  },
  {
   "cell_type": "code",
   "execution_count": 31,
   "id": "12a51496-67fc-4e01-971c-85726b1b55ec",
   "metadata": {},
   "outputs": [],
   "source": [
    "'''# Attach the functions to the button click events\n",
    "update_button.on_click(update_recommended_dates)\n",
    "date_range_picker.on_change('value', show_selected_date_range)\n",
    "originLocationCode = city_select.on_change('value', update_selected_city)'''\n"
   ]
  },
  {
   "cell_type": "code",
   "execution_count": null,
   "id": "a4d61e56-772d-45bc-bba0-6f4cbcb94b36",
   "metadata": {},
   "outputs": [],
   "source": []
  },
  {
   "cell_type": "code",
   "execution_count": 158,
   "id": "49b36c7e-c803-47a7-b407-586536084a3b",
   "metadata": {},
   "outputs": [
    {
     "ename": "ValueError",
     "evalue": "Only LayoutDOM items can be inserted into a column. Tried to insert: Dropdown(description='Select City', index=1, options=('Madrid', 'London', 'Paris', 'Barcelona'), value='London') of type <class 'ipywidgets.widgets.widget_selection.Dropdown'>",
     "output_type": "error",
     "traceback": [
      "\u001b[1;31m---------------------------------------------------------------------------\u001b[0m",
      "\u001b[1;31mValueError\u001b[0m                                Traceback (most recent call last)",
      "Cell \u001b[1;32mIn[158], line 2\u001b[0m\n\u001b[0;32m      1\u001b[0m \u001b[38;5;66;03m# Layout the widgets with city input, button, and result div\u001b[39;00m\n\u001b[1;32m----> 2\u001b[0m inputs \u001b[38;5;241m=\u001b[39m column(city_select, airport_select, date_range_picker, update_button)\n\u001b[0;32m      3\u001b[0m header \u001b[38;5;241m=\u001b[39m column(logo_image, title_div)\n\u001b[0;32m      4\u001b[0m results \u001b[38;5;241m=\u001b[39m column(recommended_dates_temp, recommended_dates_humidity, recommended_dates_wind_speed, result_div, data_table,flight_data_table)\n",
      "File \u001b[1;32mC:\\ProgramData\\anaconda3\\Lib\\site-packages\\bokeh\\layouts.py:153\u001b[0m, in \u001b[0;36mcolumn\u001b[1;34m(sizing_mode, *children, **kwargs)\u001b[0m\n\u001b[0;32m    127\u001b[0m \u001b[38;5;250m\u001b[39m\u001b[38;5;124;03m\"\"\" Create a column of Bokeh Layout objects. Forces all objects to\u001b[39;00m\n\u001b[0;32m    128\u001b[0m \u001b[38;5;124;03mhave the same sizing_mode, which is required for complex layouts to work.\u001b[39;00m\n\u001b[0;32m    129\u001b[0m \n\u001b[1;32m   (...)\u001b[0m\n\u001b[0;32m    150\u001b[0m \u001b[38;5;124;03m    >>> column(children=[widgets, plot], sizing_mode='stretch_both')\u001b[39;00m\n\u001b[0;32m    151\u001b[0m \u001b[38;5;124;03m\"\"\"\u001b[39;00m\n\u001b[0;32m    152\u001b[0m _children \u001b[38;5;241m=\u001b[39m _parse_children_arg(\u001b[38;5;241m*\u001b[39mchildren, children\u001b[38;5;241m=\u001b[39mkwargs\u001b[38;5;241m.\u001b[39mpop(\u001b[38;5;124m\"\u001b[39m\u001b[38;5;124mchildren\u001b[39m\u001b[38;5;124m\"\u001b[39m, \u001b[38;5;28;01mNone\u001b[39;00m))\n\u001b[1;32m--> 153\u001b[0m _handle_child_sizing(_children, sizing_mode, widget\u001b[38;5;241m=\u001b[39m\u001b[38;5;124m\"\u001b[39m\u001b[38;5;124mcolumn\u001b[39m\u001b[38;5;124m\"\u001b[39m)\n\u001b[0;32m    154\u001b[0m \u001b[38;5;28;01mreturn\u001b[39;00m Column(children\u001b[38;5;241m=\u001b[39m_children, sizing_mode\u001b[38;5;241m=\u001b[39msizing_mode, \u001b[38;5;241m*\u001b[39m\u001b[38;5;241m*\u001b[39mkwargs)\n",
      "File \u001b[1;32mC:\\ProgramData\\anaconda3\\Lib\\site-packages\\bokeh\\layouts.py:640\u001b[0m, in \u001b[0;36m_handle_child_sizing\u001b[1;34m(children, sizing_mode, widget)\u001b[0m\n\u001b[0;32m    638\u001b[0m     \u001b[38;5;28;01mcontinue\u001b[39;00m\n\u001b[0;32m    639\u001b[0m \u001b[38;5;28;01mif\u001b[39;00m \u001b[38;5;129;01mnot\u001b[39;00m \u001b[38;5;28misinstance\u001b[39m(item, LayoutDOM):\n\u001b[1;32m--> 640\u001b[0m     \u001b[38;5;28;01mraise\u001b[39;00m \u001b[38;5;167;01mValueError\u001b[39;00m(\u001b[38;5;124mf\u001b[39m\u001b[38;5;124m\"\u001b[39m\u001b[38;5;124mOnly LayoutDOM items can be inserted into a \u001b[39m\u001b[38;5;132;01m{\u001b[39;00mwidget\u001b[38;5;132;01m}\u001b[39;00m\u001b[38;5;124m. Tried to insert: \u001b[39m\u001b[38;5;132;01m{\u001b[39;00mitem\u001b[38;5;132;01m}\u001b[39;00m\u001b[38;5;124m of type \u001b[39m\u001b[38;5;132;01m{\u001b[39;00m\u001b[38;5;28mtype\u001b[39m(item)\u001b[38;5;132;01m}\u001b[39;00m\u001b[38;5;124m\"\u001b[39m)\n\u001b[0;32m    641\u001b[0m \u001b[38;5;28;01mif\u001b[39;00m sizing_mode \u001b[38;5;129;01mis\u001b[39;00m \u001b[38;5;129;01mnot\u001b[39;00m \u001b[38;5;28;01mNone\u001b[39;00m \u001b[38;5;129;01mand\u001b[39;00m _has_auto_sizing(item):\n\u001b[0;32m    642\u001b[0m     item\u001b[38;5;241m.\u001b[39msizing_mode \u001b[38;5;241m=\u001b[39m sizing_mode\n",
      "\u001b[1;31mValueError\u001b[0m: Only LayoutDOM items can be inserted into a column. Tried to insert: Dropdown(description='Select City', index=1, options=('Madrid', 'London', 'Paris', 'Barcelona'), value='London') of type <class 'ipywidgets.widgets.widget_selection.Dropdown'>"
     ]
    }
   ],
   "source": [
    "# Layout the widgets with city input, button, and result div\n",
    "inputs = column(city_select, airport_select, date_range_picker, update_button)\n",
    "header = column(logo_image, title_div)\n",
    "results = column(recommended_dates_temp, recommended_dates_humidity, recommended_dates_wind_speed, result_div, data_table,flight_data_table)\n",
    "layout = column(header, inputs, results, sizing_mode='stretch_both', css_classes=['app-layout'])"
   ]
  },
  {
   "cell_type": "code",
   "execution_count": null,
   "id": "1fa82a0a-054d-4e87-b5e8-e22d51dfb661",
   "metadata": {},
   "outputs": [],
   "source": []
  },
  {
   "cell_type": "code",
   "execution_count": 33,
   "id": "ed93f0f1-bbd8-4353-999a-97a2b1ea82c9",
   "metadata": {},
   "outputs": [
    {
     "name": "stderr",
     "output_type": "stream",
     "text": [
      "WARNING:bokeh.embed.util:\n",
      "You are generating standalone HTML/JS output, but trying to use real Python\n",
      "callbacks (i.e. with on_change or on_event). This combination cannot work.\n",
      "\n",
      "Only JavaScript callbacks may be used with standalone output. For more\n",
      "information on JavaScript callbacks with Bokeh, see:\n",
      "\n",
      "    https://docs.bokeh.org/en/latest/docs/user_guide/interaction/callbacks.html\n",
      "\n",
      "Alternatively, to use real Python callbacks, a Bokeh server application may\n",
      "be used. For more information on building and running Bokeh applications, see:\n",
      "\n",
      "    https://docs.bokeh.org/en/latest/docs/user_guide/server.html\n",
      "\n"
     ]
    }
   ],
   "source": [
    "show(layout)"
   ]
  },
  {
   "cell_type": "code",
   "execution_count": null,
   "id": "2fdd40ae-1772-41c3-ab51-11b445e3982c",
   "metadata": {},
   "outputs": [],
   "source": []
  },
  {
   "cell_type": "code",
   "execution_count": 79,
   "id": "b81ae920-6e3d-4978-b416-d7b58506199e",
   "metadata": {},
   "outputs": [],
   "source": []
  },
  {
   "cell_type": "code",
   "execution_count": 106,
   "id": "af7c99da-8e62-4715-a8fb-733b86510655",
   "metadata": {},
   "outputs": [],
   "source": []
  },
  {
   "cell_type": "code",
   "execution_count": 108,
   "id": "3cc9a59a-23c4-4e49-a5fb-f05ec3d85dad",
   "metadata": {},
   "outputs": [],
   "source": [
    "\n"
   ]
  },
  {
   "cell_type": "code",
   "execution_count": 109,
   "id": "de628c15-88c7-4869-9b63-c0f04d8126d3",
   "metadata": {},
   "outputs": [],
   "source": []
  },
  {
   "cell_type": "code",
   "execution_count": 110,
   "id": "b86fece3-1ca7-4782-a703-9d0df4c5d4d2",
   "metadata": {},
   "outputs": [],
   "source": []
  },
  {
   "cell_type": "code",
   "execution_count": null,
   "id": "7e4601fd-981f-4bc4-99b3-7506037b03e4",
   "metadata": {},
   "outputs": [],
   "source": []
  },
  {
   "cell_type": "code",
   "execution_count": null,
   "id": "53d491a6-339d-449d-b87f-c4946332e268",
   "metadata": {},
   "outputs": [],
   "source": []
  },
  {
   "cell_type": "code",
   "execution_count": 185,
   "id": "2376cdaa-8582-4e00-ae13-d4220aa54b70",
   "metadata": {},
   "outputs": [
    {
     "ename": "ValueError",
     "evalue": "Only LayoutDOM items can be inserted into a column. Tried to insert: Dropdown(description='Select Airport', index=6, options={'London Airport': 'YXU', 'London Luton Airport': 'LTN', 'London Biggin Hill Airport': 'BQH', 'London Gatwick Airport': 'LGW', 'London City Airport': 'LCY', 'London Heathrow Airport': 'LHR', 'London Stansted Airport': 'STN', 'RAF Northolt': 'NHT'}, value='STN') of type <class 'ipywidgets.widgets.widget_selection.Dropdown'>",
     "output_type": "error",
     "traceback": [
      "\u001b[1;31m---------------------------------------------------------------------------\u001b[0m",
      "\u001b[1;31mValueError\u001b[0m                                Traceback (most recent call last)",
      "Cell \u001b[1;32mIn[185], line 25\u001b[0m\n\u001b[0;32m     22\u001b[0m         flight_source\u001b[38;5;241m.\u001b[39mdata \u001b[38;5;241m=\u001b[39m flight_data\n\u001b[0;32m     24\u001b[0m \u001b[38;5;66;03m# Define a container for the widgets\u001b[39;00m\n\u001b[1;32m---> 25\u001b[0m inputs \u001b[38;5;241m=\u001b[39m column(city_select, airport_select, departure_date_picker, update_button)\n\u001b[0;32m     27\u001b[0m \u001b[38;5;66;03m# Display the widgets\u001b[39;00m\n\u001b[0;32m     28\u001b[0m display(inputs, flight_details_output)\n",
      "File \u001b[1;32mC:\\ProgramData\\anaconda3\\Lib\\site-packages\\bokeh\\layouts.py:153\u001b[0m, in \u001b[0;36mcolumn\u001b[1;34m(sizing_mode, *children, **kwargs)\u001b[0m\n\u001b[0;32m    127\u001b[0m \u001b[38;5;250m\u001b[39m\u001b[38;5;124;03m\"\"\" Create a column of Bokeh Layout objects. Forces all objects to\u001b[39;00m\n\u001b[0;32m    128\u001b[0m \u001b[38;5;124;03mhave the same sizing_mode, which is required for complex layouts to work.\u001b[39;00m\n\u001b[0;32m    129\u001b[0m \n\u001b[1;32m   (...)\u001b[0m\n\u001b[0;32m    150\u001b[0m \u001b[38;5;124;03m    >>> column(children=[widgets, plot], sizing_mode='stretch_both')\u001b[39;00m\n\u001b[0;32m    151\u001b[0m \u001b[38;5;124;03m\"\"\"\u001b[39;00m\n\u001b[0;32m    152\u001b[0m _children \u001b[38;5;241m=\u001b[39m _parse_children_arg(\u001b[38;5;241m*\u001b[39mchildren, children\u001b[38;5;241m=\u001b[39mkwargs\u001b[38;5;241m.\u001b[39mpop(\u001b[38;5;124m\"\u001b[39m\u001b[38;5;124mchildren\u001b[39m\u001b[38;5;124m\"\u001b[39m, \u001b[38;5;28;01mNone\u001b[39;00m))\n\u001b[1;32m--> 153\u001b[0m _handle_child_sizing(_children, sizing_mode, widget\u001b[38;5;241m=\u001b[39m\u001b[38;5;124m\"\u001b[39m\u001b[38;5;124mcolumn\u001b[39m\u001b[38;5;124m\"\u001b[39m)\n\u001b[0;32m    154\u001b[0m \u001b[38;5;28;01mreturn\u001b[39;00m Column(children\u001b[38;5;241m=\u001b[39m_children, sizing_mode\u001b[38;5;241m=\u001b[39msizing_mode, \u001b[38;5;241m*\u001b[39m\u001b[38;5;241m*\u001b[39mkwargs)\n",
      "File \u001b[1;32mC:\\ProgramData\\anaconda3\\Lib\\site-packages\\bokeh\\layouts.py:640\u001b[0m, in \u001b[0;36m_handle_child_sizing\u001b[1;34m(children, sizing_mode, widget)\u001b[0m\n\u001b[0;32m    638\u001b[0m     \u001b[38;5;28;01mcontinue\u001b[39;00m\n\u001b[0;32m    639\u001b[0m \u001b[38;5;28;01mif\u001b[39;00m \u001b[38;5;129;01mnot\u001b[39;00m \u001b[38;5;28misinstance\u001b[39m(item, LayoutDOM):\n\u001b[1;32m--> 640\u001b[0m     \u001b[38;5;28;01mraise\u001b[39;00m \u001b[38;5;167;01mValueError\u001b[39;00m(\u001b[38;5;124mf\u001b[39m\u001b[38;5;124m\"\u001b[39m\u001b[38;5;124mOnly LayoutDOM items can be inserted into a \u001b[39m\u001b[38;5;132;01m{\u001b[39;00mwidget\u001b[38;5;132;01m}\u001b[39;00m\u001b[38;5;124m. Tried to insert: \u001b[39m\u001b[38;5;132;01m{\u001b[39;00mitem\u001b[38;5;132;01m}\u001b[39;00m\u001b[38;5;124m of type \u001b[39m\u001b[38;5;132;01m{\u001b[39;00m\u001b[38;5;28mtype\u001b[39m(item)\u001b[38;5;132;01m}\u001b[39;00m\u001b[38;5;124m\"\u001b[39m)\n\u001b[0;32m    641\u001b[0m \u001b[38;5;28;01mif\u001b[39;00m sizing_mode \u001b[38;5;129;01mis\u001b[39;00m \u001b[38;5;129;01mnot\u001b[39;00m \u001b[38;5;28;01mNone\u001b[39;00m \u001b[38;5;129;01mand\u001b[39;00m _has_auto_sizing(item):\n\u001b[0;32m    642\u001b[0m     item\u001b[38;5;241m.\u001b[39msizing_mode \u001b[38;5;241m=\u001b[39m sizing_mode\n",
      "\u001b[1;31mValueError\u001b[0m: Only LayoutDOM items can be inserted into a column. Tried to insert: Dropdown(description='Select Airport', index=6, options={'London Airport': 'YXU', 'London Luton Airport': 'LTN', 'London Biggin Hill Airport': 'BQH', 'London Gatwick Airport': 'LGW', 'London City Airport': 'LCY', 'London Heathrow Airport': 'LHR', 'London Stansted Airport': 'STN', 'RAF Northolt': 'NHT'}, value='STN') of type <class 'ipywidgets.widgets.widget_selection.Dropdown'>"
     ]
    }
   ],
   "source": [
    "from bokeh.models import ColumnDataSource, DataTable, TableColumn\n",
    "from bokeh.layouts import column\n",
    "\n",
    "import requests\n",
    "import pandas as pd\n",
    "from ipywidgets import VBox\n",
    "\n",
    "# Function to handle update button click\n",
    "def on_update_button_clicked(button):\n",
    "    city = city_select.value\n",
    "    access_token = get_access_token()  # Make sure to define get_access_token function\n",
    "    originLocationCode = 'MAD'  # Assuming 'MAD' is the origin airport code\n",
    "    destinationLocationCode = airport_select.value\n",
    "    departure_date = departure_date_picker.value.strftime('%Y-%m-%d')\n",
    "    \n",
    "    # Get flight details\n",
    "    flight_offers_response = get_flight_details(city, access_token, originLocationCode, destinationLocationCode, departure_date)\n",
    "    \n",
    "    if flight_offers_response:\n",
    "        # Process flight data and update flight_source\n",
    "        flight_data = process_flight_data(flight_offers_response)\n",
    "        flight_source.data = flight_data\n",
    "\n",
    "# Define a container for the widgets\n",
    "inputs = column(city_select, airport_select, departure_date_picker, update_button)\n",
    "\n",
    "# Display the widgets\n",
    "display(inputs, flight_details_output)\n",
    "\n",
    "# Define the function to get flight details\n",
    "def get_flight_details(city, access_token, originLocationCode, destinationLocationCode, departure_date):\n",
    "    url = \"https://test.api.amadeus.com/v2/shopping/flight-offers\"\n",
    "    headers = {\n",
    "        \"Authorization\": f'Bearer {access_token}',\n",
    "        \"Content-Type\": \"application/json\"\n",
    "    }\n",
    "    params = {\n",
    "        \"originLocationCode\": originLocationCode,\n",
    "        \"destinationLocationCode\": destinationLocationCode,\n",
    "        \"departureDate\": departure_date,\n",
    "        \"adults\": 1,\n",
    "        \"max\": 3\n",
    "    }\n",
    "    response = requests.get(url, headers=headers, params=params)\n",
    "    if response.status_code == 200:\n",
    "        return response.json()\n",
    "    else:\n",
    "        print(\"Failed to get flight details:\", response.status_code, response.text)\n",
    "        return None\n",
    "\n",
    "# Define the function to process flight data\n",
    "def process_flight_data(flight_offers_response):\n",
    "    flight_data = {\n",
    "        'DepartureAirport': [],\n",
    "        'ArrivalAirport': [],\n",
    "        'DepartureTime': [],\n",
    "        'ArrivalTime': [],\n",
    "        'Duration(hours)': [],\n",
    "        'PriceWithCurrency': []\n",
    "    }\n",
    "\n",
    "    for flight in flight_offers_response['data']:\n",
    "        itinerary = flight['itineraries'][0]\n",
    "        segment = itinerary['segments'][0]\n",
    "        departure_airport = segment['departure']['iataCode']\n",
    "        arrival_airport = segment['arrival']['iataCode']\n",
    "        departure_time = segment['departure']['at'][-8:-3]\n",
    "        arrival_time = segment['arrival']['at'][-8:-3]\n",
    "\n",
    "        # Calculate duration in hours\n",
    "        departure_hour, departure_minute = map(int, departure_time.split(':'))\n",
    "        arrival_hour, arrival_minute = map(int, arrival_time.split(':'))\n",
    "        duration_hours = arrival_hour - departure_hour\n",
    "\n",
    "        price = float(flight['price']['total'])\n",
    "        currency = flight['price']['currency']\n",
    "        price_with_currency = f\"{price} {currency}\"\n",
    "\n",
    "        flight_data['DepartureAirport'].append(departure_airport)\n",
    "        flight_data['ArrivalAirport'].append(arrival_airport)\n",
    "        flight_data['DepartureTime'].append(departure_time)\n",
    "        flight_data['ArrivalTime'].append(arrival_time)\n",
    "        flight_data['Duration(hours)'].append(duration_hours)\n",
    "        flight_data['PriceWithCurrency'].append(price_with_currency)\n",
    "\n",
    "    return flight_data\n",
    "\n",
    "# Create a ColumnDataSource for flight data\n",
    "flight_source = ColumnDataSource(data={})\n",
    "\n",
    "# Create DataTable columns\n",
    "flight_columns = [\n",
    "    TableColumn(field='DepartureAirport', title='Departure Airport'),\n",
    "    TableColumn(field='ArrivalAirport', title='Arrival Airport'),\n",
    "    TableColumn(field='DepartureTime', title='Departure Time'),\n",
    "    TableColumn(field='ArrivalTime', title='Arrival Time'),\n",
    "    TableColumn(field='Duration(hours)', title='Duration (hours)'),\n",
    "    TableColumn(field='PriceWithCurrency', title='Price')\n",
    "]\n",
    "\n",
    "# Create DataTable for flight data\n",
    "flight_data_table = DataTable(source=flight_source, columns=flight_columns, width=800, height=280)\n"
   ]
  },
  {
   "cell_type": "code",
   "execution_count": null,
   "id": "7a24f612-6cff-4f3f-a242-f2e22c6afdb0",
   "metadata": {},
   "outputs": [],
   "source": []
  }
 ],
 "metadata": {
  "kernelspec": {
   "display_name": "Python 3 (ipykernel)",
   "language": "python",
   "name": "python3"
  },
  "language_info": {
   "codemirror_mode": {
    "name": "ipython",
    "version": 3
   },
   "file_extension": ".py",
   "mimetype": "text/x-python",
   "name": "python",
   "nbconvert_exporter": "python",
   "pygments_lexer": "ipython3",
   "version": "3.11.7"
  }
 },
 "nbformat": 4,
 "nbformat_minor": 5
}
